{
  "nbformat": 4,
  "nbformat_minor": 0,
  "metadata": {
    "colab": {
      "name": "3th,Loops and  Functions.ipynb",
      "provenance": [],
      "collapsed_sections": [],
      "toc_visible": true
    },
    "kernelspec": {
      "display_name": "Python 3",
      "language": "python",
      "name": "python3"
    },
    "language_info": {
      "codemirror_mode": {
        "name": "ipython",
        "version": 3
      },
      "file_extension": ".py",
      "mimetype": "text/x-python",
      "name": "python",
      "nbconvert_exporter": "python",
      "pygments_lexer": "ipython3",
      "version": "3.7.3"
    }
  },
  "cells": [
    {
      "cell_type": "markdown",
      "metadata": {
        "colab_type": "text",
        "id": "dYm_J7SkyNlz"
      },
      "source": [
        "### More on Lists"
      ]
    },
    {
      "cell_type": "code",
      "metadata": {
        "colab_type": "code",
        "id": "0iZfEhp1yNl0",
        "outputId": "4f75f222-ca62-4420-a85a-82905e5427b9",
        "colab": {}
      },
      "source": [
        "L = [1,2,3]\n",
        "print(L*3)\n",
        "print(L+[4,5])"
      ],
      "execution_count": 0,
      "outputs": [
        {
          "output_type": "stream",
          "text": [
            "[1, 2, 3, 1, 2, 3, 1, 2, 3]\n",
            "[1, 2, 3, 4, 5]\n"
          ],
          "name": "stdout"
        }
      ]
    },
    {
      "cell_type": "code",
      "metadata": {
        "colab_type": "code",
        "id": "Lh58Ai3_yNl3",
        "outputId": "43adbe66-525b-4235-ebb8-18c167d7e662",
        "colab": {}
      },
      "source": [
        "print(L)"
      ],
      "execution_count": 0,
      "outputs": [
        {
          "output_type": "stream",
          "text": [
            "[1, 2, 3]\n"
          ],
          "name": "stdout"
        }
      ]
    },
    {
      "cell_type": "code",
      "metadata": {
        "colab_type": "code",
        "id": "nCTNikAdyNl8",
        "colab": {}
      },
      "source": [
        "L[1] = 4"
      ],
      "execution_count": 0,
      "outputs": []
    },
    {
      "cell_type": "code",
      "metadata": {
        "colab_type": "code",
        "id": "jqolAY3iyNmA",
        "outputId": "779620a9-48fa-43ec-95ed-c9b2174de099",
        "colab": {}
      },
      "source": [
        "print(L)"
      ],
      "execution_count": 0,
      "outputs": [
        {
          "output_type": "stream",
          "text": [
            "[1, 4, 3]\n"
          ],
          "name": "stdout"
        }
      ]
    },
    {
      "cell_type": "code",
      "metadata": {
        "colab_type": "code",
        "id": "MR2BLNcbyNmD",
        "outputId": "e536afdf-a823-4f40-b200-380d0a9ab5d9",
        "colab": {}
      },
      "source": [
        "print(1 in L)\n",
        "print(1  not in L)"
      ],
      "execution_count": 0,
      "outputs": [
        {
          "output_type": "stream",
          "text": [
            "True\n",
            "False\n"
          ],
          "name": "stdout"
        }
      ]
    },
    {
      "cell_type": "code",
      "metadata": {
        "colab_type": "code",
        "id": "vtmY_oTIyNmG",
        "outputId": "e386d35b-2e26-4848-bb19-b4c114e3fe5a",
        "colab": {}
      },
      "source": [
        "# some functions\n",
        "len(L) # length of list"
      ],
      "execution_count": 0,
      "outputs": [
        {
          "output_type": "execute_result",
          "data": {
            "text/plain": [
              "3"
            ]
          },
          "metadata": {
            "tags": []
          },
          "execution_count": 96
        }
      ]
    },
    {
      "cell_type": "code",
      "metadata": {
        "colab_type": "code",
        "id": "MbIvGX9WyNmM",
        "outputId": "37d72b89-944d-4d2e-bdfa-e34996af02ee",
        "colab": {}
      },
      "source": [
        "#append value(s) to list\n",
        "L.append(5)\n",
        "print(L)"
      ],
      "execution_count": 0,
      "outputs": [
        {
          "output_type": "stream",
          "text": [
            "[1, 4, 3, 5]\n"
          ],
          "name": "stdout"
        }
      ]
    },
    {
      "cell_type": "code",
      "metadata": {
        "colab_type": "code",
        "id": "DgAjP7ZkyNmR",
        "outputId": "fd52ad20-2e9d-4fbf-c54c-f6a335236928",
        "colab": {}
      },
      "source": [
        "L.append([6,7])\n",
        "print(L)"
      ],
      "execution_count": 0,
      "outputs": [
        {
          "output_type": "stream",
          "text": [
            "[1, 4, 3, 5, [6, 7]]\n"
          ],
          "name": "stdout"
        }
      ]
    },
    {
      "cell_type": "code",
      "metadata": {
        "colab_type": "code",
        "id": "ccvhR_B6yNmV",
        "outputId": "3d0633ab-7a04-45cd-cb28-acf364c83c2d",
        "colab": {}
      },
      "source": [
        "# but I wanted to add 6 and 7 to list\n",
        "L.extend([6,7])\n",
        "print(L)"
      ],
      "execution_count": 0,
      "outputs": [
        {
          "output_type": "stream",
          "text": [
            "[1, 4, 3, 5, [6, 7], 6, 7]\n"
          ],
          "name": "stdout"
        }
      ]
    },
    {
      "cell_type": "code",
      "metadata": {
        "colab_type": "code",
        "id": "0_I1JdiMyNmZ",
        "outputId": "6d767ad8-c04f-45f8-f864-61778168bdac",
        "colab": {}
      },
      "source": [
        "# insert for given index new value\n",
        "L.insert(0, 10)\n",
        "print(L)"
      ],
      "execution_count": 0,
      "outputs": [
        {
          "output_type": "stream",
          "text": [
            "[10, 1, 4, 3, 5, [6, 7], 6, 7]\n"
          ],
          "name": "stdout"
        }
      ]
    },
    {
      "cell_type": "code",
      "metadata": {
        "colab_type": "code",
        "id": "-k4_4xUDyNme",
        "outputId": "22c16642-bc4f-4173-a123-f325bcb23458",
        "colab": {}
      },
      "source": [
        "# get index of item\n",
        "L.index(4)"
      ],
      "execution_count": 0,
      "outputs": [
        {
          "output_type": "execute_result",
          "data": {
            "text/plain": [
              "2"
            ]
          },
          "metadata": {
            "tags": []
          },
          "execution_count": 101
        }
      ]
    },
    {
      "cell_type": "code",
      "metadata": {
        "colab_type": "code",
        "id": "6_z1OPHfyNmj",
        "outputId": "9945eba7-8065-4ce5-d018-c7248289e15f",
        "colab": {}
      },
      "source": [
        "# Return number of occurrences of value.\n",
        "L.count(6)"
      ],
      "execution_count": 0,
      "outputs": [
        {
          "output_type": "execute_result",
          "data": {
            "text/plain": [
              "1"
            ]
          },
          "metadata": {
            "tags": []
          },
          "execution_count": 102
        }
      ]
    },
    {
      "cell_type": "code",
      "metadata": {
        "colab_type": "code",
        "id": "dYazj6jJyNml",
        "colab": {}
      },
      "source": [
        "# delete item\n",
        "del L[5]"
      ],
      "execution_count": 0,
      "outputs": []
    },
    {
      "cell_type": "code",
      "metadata": {
        "colab_type": "code",
        "id": "I5bcosqoyNm5",
        "outputId": "610c5ffe-ef00-420c-9829-77857a155263",
        "colab": {}
      },
      "source": [
        "print (L)"
      ],
      "execution_count": 0,
      "outputs": [
        {
          "output_type": "stream",
          "text": [
            "[10, 1, 4, 3, 5, 6, 7]\n"
          ],
          "name": "stdout"
        }
      ]
    },
    {
      "cell_type": "code",
      "metadata": {
        "colab_type": "code",
        "id": "YXiSWboXyNm8",
        "outputId": "f1d5abff-8204-4c6d-f9ba-2ae08238f513",
        "colab": {}
      },
      "source": [
        "L.sort()\n",
        "print(L)"
      ],
      "execution_count": 0,
      "outputs": [
        {
          "output_type": "stream",
          "text": [
            "[1, 3, 4, 5, 6, 7, 10]\n"
          ],
          "name": "stdout"
        }
      ]
    },
    {
      "cell_type": "code",
      "metadata": {
        "colab_type": "code",
        "id": "eIa4xdJmyNnD",
        "outputId": "fa44e8d0-a588-4ccd-9b14-ba0649f86a6c",
        "colab": {}
      },
      "source": [
        "# delete by index\n",
        "L.pop(-1)\n",
        "print(L)"
      ],
      "execution_count": 0,
      "outputs": [
        {
          "output_type": "stream",
          "text": [
            "[1, 3, 4, 5, 6, 7]\n"
          ],
          "name": "stdout"
        }
      ]
    },
    {
      "cell_type": "code",
      "metadata": {
        "colab_type": "code",
        "id": "Gt7k8p-IyNnH",
        "outputId": "293cd8c5-9b17-4df4-c86a-35b0ae33f8dc",
        "colab": {}
      },
      "source": [
        "# delete by value\n",
        "L.remove(3)\n",
        "print(L)"
      ],
      "execution_count": 0,
      "outputs": [
        {
          "output_type": "stream",
          "text": [
            "[1, 4, 5, 6, 7]\n"
          ],
          "name": "stdout"
        }
      ]
    },
    {
      "cell_type": "code",
      "metadata": {
        "colab_type": "code",
        "id": "UMbZ_1kCyNnK",
        "colab": {}
      },
      "source": [
        "L[1:] = [20,22]"
      ],
      "execution_count": 0,
      "outputs": []
    },
    {
      "cell_type": "code",
      "metadata": {
        "colab_type": "code",
        "id": "QU6_5GsDyNnN",
        "outputId": "15c12a5d-dc49-4d70-fb99-488538c642ca",
        "colab": {}
      },
      "source": [
        "print(L)"
      ],
      "execution_count": 0,
      "outputs": [
        {
          "output_type": "stream",
          "text": [
            "[1, 20, 22]\n"
          ],
          "name": "stdout"
        }
      ]
    },
    {
      "cell_type": "code",
      "metadata": {
        "colab_type": "code",
        "id": "o4Wuzjq0yNnR",
        "outputId": "135d03a1-19c9-4c68-ec28-e9b30fe40109",
        "colab": {}
      },
      "source": [
        "B = [1,2,3,4,5,6,7,8,9,10,11,12,13,14]\n",
        "print(B[::2])\n",
        "print(B[0:len(B):2])"
      ],
      "execution_count": 0,
      "outputs": [
        {
          "output_type": "stream",
          "text": [
            "[1, 3, 5, 7, 9, 11, 13]\n",
            "[1, 3, 5, 7, 9, 11, 13]\n"
          ],
          "name": "stdout"
        }
      ]
    },
    {
      "cell_type": "code",
      "metadata": {
        "colab_type": "code",
        "id": "NGCihzKEyNnU",
        "outputId": "7a40c358-c2f2-4e11-e58f-e25ae49f042a",
        "colab": {}
      },
      "source": [
        "numbers = list(range(10))\n",
        "print(numbers)"
      ],
      "execution_count": 0,
      "outputs": [
        {
          "output_type": "stream",
          "text": [
            "[0, 1, 2, 3, 4, 5, 6, 7, 8, 9]\n"
          ],
          "name": "stdout"
        }
      ]
    },
    {
      "cell_type": "code",
      "metadata": {
        "colab_type": "code",
        "id": "FsQIyBGqyNnX",
        "outputId": "fe96b4b8-964a-46f5-ebd1-8f174a607a23",
        "colab": {
          "base_uri": "https://localhost:8080/",
          "height": 54
        }
      },
      "source": [
        "print(range(10)) \n",
        "import sys \n",
        "#System-specific parameters and functions\n",
        "print(sys.getsizeof(range(10)), sys.getsizeof(list(range(10)))) # Return the size of an object in bytes"
      ],
      "execution_count": 0,
      "outputs": [
        {
          "output_type": "stream",
          "text": [
            "range(0, 10)\n",
            "48 200\n"
          ],
          "name": "stdout"
        }
      ]
    },
    {
      "cell_type": "code",
      "metadata": {
        "colab_type": "code",
        "id": "M77UFdIryNnb",
        "outputId": "958957b4-f3eb-47c9-e0fd-e2f8e3f3957a",
        "colab": {}
      },
      "source": [
        "print(list(range(1,15,2)))"
      ],
      "execution_count": 0,
      "outputs": [
        {
          "output_type": "stream",
          "text": [
            "[1, 3, 5, 7, 9, 11, 13]\n"
          ],
          "name": "stdout"
        }
      ]
    },
    {
      "cell_type": "code",
      "metadata": {
        "colab_type": "code",
        "id": "cx1TkOEqyNnj",
        "colab": {}
      },
      "source": [
        "a, b, c, d, e, f = range(6)"
      ],
      "execution_count": 0,
      "outputs": []
    },
    {
      "cell_type": "code",
      "metadata": {
        "colab_type": "code",
        "id": "EZRljCFUyNno",
        "outputId": "dbbe7c9e-bf9e-47d4-f1ec-25abb67c2a78",
        "colab": {}
      },
      "source": [
        "print(a, b, c, d, e, f)"
      ],
      "execution_count": 0,
      "outputs": [
        {
          "output_type": "stream",
          "text": [
            "0 1 2 3 4 5\n"
          ],
          "name": "stdout"
        }
      ]
    },
    {
      "cell_type": "code",
      "metadata": {
        "colab_type": "code",
        "id": "xHSunnKMyNnq",
        "colab": {}
      },
      "source": [
        "seq = list(range(5))"
      ],
      "execution_count": 0,
      "outputs": []
    },
    {
      "cell_type": "code",
      "metadata": {
        "colab_type": "code",
        "id": "8M9WKHIFyNns",
        "outputId": "9cc91aa8-521c-47d1-d243-486d9325f16a",
        "colab": {}
      },
      "source": [
        "a, *b = seq\n",
        "print(a, b, sep= \"\\n\")"
      ],
      "execution_count": 0,
      "outputs": [
        {
          "output_type": "stream",
          "text": [
            "0\n",
            "[1, 2, 3, 4]\n"
          ],
          "name": "stdout"
        }
      ]
    },
    {
      "cell_type": "code",
      "metadata": {
        "colab_type": "code",
        "id": "y_zkG-6oyNnu",
        "outputId": "84b98ccc-afe2-4ac6-b6f8-2ef16f1b47a9",
        "colab": {}
      },
      "source": [
        "a, b = seq[0], seq[1:]\n",
        "print(a, b, sep= \"\\n\")"
      ],
      "execution_count": 0,
      "outputs": [
        {
          "output_type": "stream",
          "text": [
            "0\n",
            "[1, 2, 3, 4]\n"
          ],
          "name": "stdout"
        }
      ]
    },
    {
      "cell_type": "code",
      "metadata": {
        "colab_type": "code",
        "id": "QOf-fM-dyNnz",
        "outputId": "83e1e836-a75a-49f9-de71-e3e6ed2f1820",
        "colab": {}
      },
      "source": [
        "# lists in list are called nested lists\n",
        "matrix = [ [1,2,3],\n",
        "           [4,5,6]]\n",
        "print(matrix)"
      ],
      "execution_count": 0,
      "outputs": [
        {
          "output_type": "stream",
          "text": [
            "[[1, 2, 3], [4, 5, 6]]\n"
          ],
          "name": "stdout"
        }
      ]
    },
    {
      "cell_type": "code",
      "metadata": {
        "id": "mTgUZRJ4QBkK",
        "colab_type": "code",
        "colab": {}
      },
      "source": [
        ""
      ],
      "execution_count": 0,
      "outputs": []
    },
    {
      "cell_type": "markdown",
      "metadata": {
        "colab_type": "text",
        "id": "1K0ZkfwlyNn1"
      },
      "source": [
        "## For Loops"
      ]
    },
    {
      "cell_type": "code",
      "metadata": {
        "colab_type": "code",
        "id": "N8kqhqqJyNn2",
        "colab": {}
      },
      "source": [
        "\"\"\"for target in object: # Assign object items to target\n",
        "    statements # Repeated loop body: use target\n",
        "else: # Optional else part\n",
        "    statements # If we didn't hit a 'break'\"\"\""
      ],
      "execution_count": 0,
      "outputs": []
    },
    {
      "cell_type": "code",
      "metadata": {
        "colab_type": "code",
        "id": "vAl-mUzxyNn4",
        "outputId": "1466ccdb-92b4-46b6-b26b-22c3f2178d4a",
        "colab": {}
      },
      "source": [
        "for i in range(10):\n",
        "    print(i)"
      ],
      "execution_count": 0,
      "outputs": [
        {
          "output_type": "stream",
          "text": [
            "0\n",
            "1\n",
            "2\n",
            "3\n",
            "4\n",
            "5\n",
            "6\n",
            "7\n",
            "8\n",
            "9\n"
          ],
          "name": "stdout"
        }
      ]
    },
    {
      "cell_type": "code",
      "metadata": {
        "colab_type": "code",
        "id": "H7iatLujyNn6",
        "outputId": "5562a761-826c-46cc-d0df-5316c2d7c2a0",
        "colab": {}
      },
      "source": [
        "# dummy iterator \n",
        "for _ in range(5):\n",
        "    print(\"Hello world!\")"
      ],
      "execution_count": 0,
      "outputs": [
        {
          "output_type": "stream",
          "text": [
            "Hello world!\n",
            "Hello world!\n",
            "Hello world!\n",
            "Hello world!\n",
            "Hello world!\n"
          ],
          "name": "stdout"
        }
      ]
    },
    {
      "cell_type": "code",
      "metadata": {
        "colab_type": "code",
        "id": "nU4rYUplOKxx",
        "outputId": "dea7840a-1b7e-48ff-f82f-ff86e379741a",
        "colab": {
          "base_uri": "https://localhost:8080/",
          "height": 36
        }
      },
      "source": [
        "sum(2 for _ in range(6))"
      ],
      "execution_count": 0,
      "outputs": [
        {
          "output_type": "execute_result",
          "data": {
            "text/plain": [
              "12"
            ]
          },
          "metadata": {
            "tags": []
          },
          "execution_count": 24
        }
      ]
    },
    {
      "cell_type": "code",
      "metadata": {
        "colab_type": "code",
        "id": "FRoFY-3UOp68",
        "outputId": "86c05dab-503e-4867-a622-ac577195ed5e",
        "colab": {
          "base_uri": "https://localhost:8080/",
          "height": 73
        }
      },
      "source": [
        "a, _, b = 1,(2,3,4),5\n",
        "print(a)\n",
        "print(b)\n",
        "print(_)\n",
        "# _ is I don't care variable\n"
      ],
      "execution_count": 0,
      "outputs": [
        {
          "output_type": "stream",
          "text": [
            "1\n",
            "5\n",
            "(2, 3, 4)\n"
          ],
          "name": "stdout"
        }
      ]
    },
    {
      "cell_type": "code",
      "metadata": {
        "colab_type": "code",
        "id": "i0jPS_yDyNn9",
        "outputId": "3c70a92e-3332-4cf3-9c7e-d008f7c2fb71",
        "colab": {}
      },
      "source": [
        "#  lets compute the sum of lists' item\n",
        "sum_lst = 0\n",
        "for x in [1,2,3,4]:\n",
        "    sum_lst +=x\n",
        "    print(\"Sum at \", x, \"iteration: \", sum_lst)\n",
        "print(\"Final sum: \", sum_lst)\n"
      ],
      "execution_count": 0,
      "outputs": [
        {
          "output_type": "stream",
          "text": [
            "Sum at  1 iteration:  1\n",
            "Sum at  2 iteration:  3\n",
            "Sum at  3 iteration:  6\n",
            "Sum at  4 iteration:  10\n",
            "Final sum:  10\n"
          ],
          "name": "stdout"
        }
      ]
    },
    {
      "cell_type": "code",
      "metadata": {
        "colab_type": "code",
        "id": "Djx2XXpbyNoC",
        "outputId": "d8a35273-ca21-4a5f-e831-9775999b8170",
        "colab": {}
      },
      "source": [
        "# compute factorial\n",
        "n = int(input(\"Enter number: \"))\n",
        "prod = 1\n",
        "for i in range(1,n+1):\n",
        "    prod *=i\n",
        "print(\"Factorial of \", n, \"=\", prod)"
      ],
      "execution_count": 0,
      "outputs": [
        {
          "output_type": "stream",
          "text": [
            "Enter number: 14\n",
            "Factorial of  14 = 87178291200\n"
          ],
          "name": "stdout"
        }
      ]
    },
    {
      "cell_type": "code",
      "metadata": {
        "colab_type": "code",
        "id": "1bOh1CRZyNoH",
        "outputId": "509de91f-23c5-4529-a031-cabaa5206c7c",
        "colab": {}
      },
      "source": [
        "sample_string = \"I love Python\"\n",
        "for i in sample_string: print(i, end = \",\")"
      ],
      "execution_count": 0,
      "outputs": [
        {
          "output_type": "stream",
          "text": [
            "I, ,l,o,v,e, ,P,y,t,h,o,n,"
          ],
          "name": "stdout"
        }
      ]
    },
    {
      "cell_type": "code",
      "metadata": {
        "colab_type": "code",
        "id": "3BLV4Dm5yNoK",
        "outputId": "92b91a95-3e67-47cd-88ea-82e0f07fee04",
        "colab": {}
      },
      "source": [
        "# tuple assignment \n",
        "T = [(1, 2), (3, 4), (5, 6)]\n",
        "for (a, b) in T: \n",
        "    print(a, b)"
      ],
      "execution_count": 0,
      "outputs": [
        {
          "output_type": "stream",
          "text": [
            "1 2\n",
            "3 4\n",
            "5 6\n"
          ],
          "name": "stdout"
        }
      ]
    },
    {
      "cell_type": "code",
      "metadata": {
        "colab_type": "code",
        "id": "C7wWOsVdyNoM",
        "outputId": "b4d190c9-f759-4fb9-bd50-d54f27931981",
        "colab": {}
      },
      "source": [
        "list1 = list(range(1,11,2 ))\n",
        "list2 = list(range(2,11,2))\n",
        "print(list(zip(list1, list2)))"
      ],
      "execution_count": 0,
      "outputs": [
        {
          "output_type": "stream",
          "text": [
            "[(1, 2), (3, 4), (5, 6), (7, 8), (9, 10)]\n"
          ],
          "name": "stdout"
        }
      ]
    },
    {
      "cell_type": "code",
      "metadata": {
        "colab_type": "code",
        "id": "kJ2Je5P-yNoP",
        "outputId": "14b2d09a-122f-4b19-9065-3ccaddbd5e10",
        "colab": {}
      },
      "source": [
        "for a, b in zip(range(10), range(10,20)):\n",
        "    print( (a, b))"
      ],
      "execution_count": 0,
      "outputs": [
        {
          "output_type": "stream",
          "text": [
            "(0, 10)\n",
            "(1, 11)\n",
            "(2, 12)\n",
            "(3, 13)\n",
            "(4, 14)\n",
            "(5, 15)\n",
            "(6, 16)\n",
            "(7, 17)\n",
            "(8, 18)\n",
            "(9, 19)\n"
          ],
          "name": "stdout"
        }
      ]
    },
    {
      "cell_type": "code",
      "metadata": {
        "colab_type": "code",
        "id": "1thSLIfryNoS",
        "colab": {}
      },
      "source": [
        "# list comprehension "
      ],
      "execution_count": 0,
      "outputs": []
    },
    {
      "cell_type": "code",
      "metadata": {
        "colab_type": "code",
        "id": "S7NOJYF3yNoV",
        "outputId": "28c8f468-5e85-42f9-c689-10c1888fa197",
        "colab": {}
      },
      "source": [
        "res = []\n",
        "L = range(5)\n",
        "for x in L:\n",
        "    res.append(x + 10)\n",
        "\n",
        "print(res)"
      ],
      "execution_count": 0,
      "outputs": [
        {
          "output_type": "stream",
          "text": [
            "[10, 11, 12, 13, 14]\n"
          ],
          "name": "stdout"
        }
      ]
    },
    {
      "cell_type": "code",
      "metadata": {
        "colab_type": "code",
        "id": "NyT0FT5NyNoY",
        "outputId": "14ad875c-39a0-4906-ced6-65f4f97b505d",
        "colab": {}
      },
      "source": [
        "res = [x+10 for x in L]\n",
        "print(res)"
      ],
      "execution_count": 0,
      "outputs": [
        {
          "output_type": "stream",
          "text": [
            "[10, 11, 12, 13, 14]\n"
          ],
          "name": "stdout"
        }
      ]
    },
    {
      "cell_type": "code",
      "metadata": {
        "colab_type": "code",
        "id": "ojd8vCxeyNoa",
        "outputId": "8afb94d2-c912-4816-db52-b3c75f4ea0dc",
        "colab": {}
      },
      "source": [
        "# counter for for loops\n",
        "S = 'spam'\n",
        "offset = 0\n",
        "for item in S:\n",
        "    print(item, 'appears at offset', offset)\n",
        "    offset += 1\n"
      ],
      "execution_count": 0,
      "outputs": [
        {
          "output_type": "stream",
          "text": [
            "s appears at offset 0\n",
            "p appears at offset 1\n",
            "a appears at offset 2\n",
            "m appears at offset 3\n"
          ],
          "name": "stdout"
        }
      ]
    },
    {
      "cell_type": "code",
      "metadata": {
        "colab_type": "code",
        "id": "nD6y4lTMyNoe",
        "outputId": "683f5a02-40bd-4028-fb07-4d10b158fcf1",
        "colab": {}
      },
      "source": [
        "S = 'spam'\n",
        "for (offset, item) in enumerate(S):\n",
        "    print(item, 'appears at offset', offset)"
      ],
      "execution_count": 0,
      "outputs": [
        {
          "output_type": "stream",
          "text": [
            "s appears at offset 0\n",
            "p appears at offset 1\n",
            "a appears at offset 2\n",
            "m appears at offset 3\n"
          ],
          "name": "stdout"
        }
      ]
    },
    {
      "cell_type": "code",
      "metadata": {
        "colab_type": "code",
        "id": "hHE9AD8kyNoh",
        "outputId": "6417e069-88ee-4f4b-c91f-95fdee3db65c",
        "colab": {
          "base_uri": "https://localhost:8080/",
          "height": 167
        }
      },
      "source": [
        "for n in range(2, 10):\n",
        "    for x in range(2, n):\n",
        "        if n % x == 0:\n",
        "            print( n, 'equals', x, '*', n/x)\n",
        "            break\n",
        "    else:\n",
        "        # loop fell through without finding a factor\n",
        "        print(n, 'is a prime number')"
      ],
      "execution_count": 0,
      "outputs": [
        {
          "output_type": "stream",
          "text": [
            "2 is a prime number\n",
            "3 is a prime number\n",
            "4 equals 2 * 2.0\n",
            "5 is a prime number\n",
            "6 equals 2 * 3.0\n",
            "7 is a prime number\n",
            "8 equals 2 * 4.0\n",
            "9 equals 3 * 3.0\n"
          ],
          "name": "stdout"
        }
      ]
    },
    {
      "cell_type": "markdown",
      "metadata": {
        "colab_type": "text",
        "id": "0FfhEnz4RHH2"
      },
      "source": [
        "## Functions"
      ]
    },
    {
      "cell_type": "markdown",
      "metadata": {
        "colab_type": "text",
        "id": "MK0SjsE9RAdV"
      },
      "source": [
        "In simple terms, a function is a device that groups a set of statements so they can be run\n",
        "more than once in a program\n",
        "There is a 2 ways to define a function in python , **def** and  **lambda**"
      ]
    },
    {
      "cell_type": "code",
      "metadata": {
        "colab_type": "code",
        "id": "Az_6pyLFRLmf",
        "colab": {}
      },
      "source": [
        ""
      ],
      "execution_count": 0,
      "outputs": []
    },
    {
      "cell_type": "markdown",
      "metadata": {
        "colab_type": "text",
        "id": "ypyqFOlUUT4a"
      },
      "source": [
        "def is executed at **runtime**<br>\n",
        "if test:<br>\n",
        "&emsp; def func(): # Define func this way </t> <br>\n",
        "&emsp;...<br>\n",
        "else:<br>\n",
        "&emsp;def func(): # Or else this way<br>\n",
        "&emsp;...<br>\n",
        "&emsp;...<br>\n",
        "func() # Call the version selected and built<br>"
      ]
    },
    {
      "cell_type": "markdown",
      "metadata": {
        "colab_type": "text",
        "id": "M5CiniycVq_F"
      },
      "source": [
        "function's statements are not evaluated untill the function is later called"
      ]
    },
    {
      "cell_type": "code",
      "metadata": {
        "colab_type": "code",
        "id": "GYQB0kKJU2RZ",
        "colab": {}
      },
      "source": [
        "def func():\n",
        "  sdfsfgf"
      ],
      "execution_count": 0,
      "outputs": []
    },
    {
      "cell_type": "code",
      "metadata": {
        "colab_type": "code",
        "id": "17pH8re2V3k8",
        "outputId": "6215b3cd-06ad-4fd8-e929-7f0725022a26",
        "colab": {
          "base_uri": "https://localhost:8080/",
          "height": 250
        }
      },
      "source": [
        "func()"
      ],
      "execution_count": 0,
      "outputs": [
        {
          "output_type": "error",
          "ename": "NameError",
          "evalue": "ignored",
          "traceback": [
            "\u001b[0;31m---------------------------------------------------------------------------\u001b[0m",
            "\u001b[0;31mNameError\u001b[0m                                 Traceback (most recent call last)",
            "\u001b[0;32m<ipython-input-2-bd1982955a12>\u001b[0m in \u001b[0;36m<module>\u001b[0;34m()\u001b[0m\n\u001b[0;32m----> 1\u001b[0;31m \u001b[0mfunc\u001b[0m\u001b[0;34m(\u001b[0m\u001b[0;34m)\u001b[0m\u001b[0;34m\u001b[0m\u001b[0;34m\u001b[0m\u001b[0m\n\u001b[0m",
            "\u001b[0;32m<ipython-input-1-3bc8999089e0>\u001b[0m in \u001b[0;36mfunc\u001b[0;34m()\u001b[0m\n\u001b[1;32m      1\u001b[0m \u001b[0;32mdef\u001b[0m \u001b[0mfunc\u001b[0m\u001b[0;34m(\u001b[0m\u001b[0;34m)\u001b[0m\u001b[0;34m:\u001b[0m\u001b[0;34m\u001b[0m\u001b[0;34m\u001b[0m\u001b[0m\n\u001b[0;32m----> 2\u001b[0;31m   \u001b[0msdfsfgf\u001b[0m\u001b[0;34m\u001b[0m\u001b[0;34m\u001b[0m\u001b[0m\n\u001b[0m",
            "\u001b[0;31mNameError\u001b[0m: name 'sdfsfgf' is not defined"
          ]
        }
      ]
    },
    {
      "cell_type": "code",
      "metadata": {
        "colab_type": "code",
        "id": "RTKkKJA5WC8j",
        "outputId": "84fce0e7-4c41-4067-efc6-13c1f25d089c",
        "colab": {
          "base_uri": "https://localhost:8080/",
          "height": 36
        }
      },
      "source": [
        "def times(m, n):\n",
        "  return m*n\n",
        "times(2,3)"
      ],
      "execution_count": 0,
      "outputs": [
        {
          "output_type": "execute_result",
          "data": {
            "text/plain": [
              "6"
            ]
          },
          "metadata": {
            "tags": []
          },
          "execution_count": 3
        }
      ]
    },
    {
      "cell_type": "code",
      "metadata": {
        "colab_type": "code",
        "id": "KFYJ54p2WKqk",
        "outputId": "0c414517-a80c-4def-9b4d-4bba8b0c559b",
        "colab": {
          "base_uri": "https://localhost:8080/",
          "height": 36
        }
      },
      "source": [
        "result = times(6,2.4)\n",
        "print(result, type(result))"
      ],
      "execution_count": 0,
      "outputs": [
        {
          "output_type": "stream",
          "text": [
            "14.399999999999999 <class 'float'>\n"
          ],
          "name": "stdout"
        }
      ]
    },
    {
      "cell_type": "code",
      "metadata": {
        "colab_type": "code",
        "id": "rKl0TBHeWPOp",
        "outputId": "8ade7e00-317c-46d9-9817-a8f3b47eed81",
        "colab": {
          "base_uri": "https://localhost:8080/",
          "height": 36
        }
      },
      "source": [
        "times(\"x\", 4)"
      ],
      "execution_count": 0,
      "outputs": [
        {
          "output_type": "execute_result",
          "data": {
            "text/plain": [
              "'xxxx'"
            ]
          },
          "metadata": {
            "tags": []
          },
          "execution_count": 7
        }
      ]
    },
    {
      "cell_type": "code",
      "metadata": {
        "colab_type": "code",
        "id": "GYMA86N0WaQ7",
        "colab": {}
      },
      "source": [
        "def firstfunc(username):\n",
        "    if isinstance(username, str):\n",
        "        print (\"Hey\", username + '!')\n",
        "        print (username + \" , How are you?\")\n",
        "    else:\n",
        "        print('wrong input')"
      ],
      "execution_count": 0,
      "outputs": []
    },
    {
      "cell_type": "code",
      "metadata": {
        "colab_type": "code",
        "id": "4KLFxybgYrMn",
        "outputId": "6caa5c3c-ad03-4a95-9c7d-989b252fce31",
        "colab": {
          "base_uri": "https://localhost:8080/",
          "height": 54
        }
      },
      "source": [
        "firstfunc(\"Mher\")"
      ],
      "execution_count": 0,
      "outputs": [
        {
          "output_type": "stream",
          "text": [
            "Hey Mher!\n",
            "Mher , How are you?\n"
          ],
          "name": "stdout"
        }
      ]
    },
    {
      "cell_type": "code",
      "metadata": {
        "colab_type": "code",
        "id": "IWs6kYduYtJ9",
        "colab": {}
      },
      "source": [
        "def some_func():\n",
        "  for i in range(10):\n",
        "    print(i, end = \",\")"
      ],
      "execution_count": 0,
      "outputs": []
    },
    {
      "cell_type": "code",
      "metadata": {
        "colab_type": "code",
        "id": "7cF1t74UZBax",
        "outputId": "05f25371-b7e4-4ad6-b4af-1cc9ed2b84cc",
        "colab": {
          "base_uri": "https://localhost:8080/",
          "height": 36
        }
      },
      "source": [
        "some_func()"
      ],
      "execution_count": 0,
      "outputs": [
        {
          "output_type": "stream",
          "text": [
            "0,1,2,3,4,5,6,7,8,9,"
          ],
          "name": "stdout"
        }
      ]
    },
    {
      "cell_type": "code",
      "metadata": {
        "colab_type": "code",
        "id": "UzVqE2MRZCzE",
        "outputId": "1793b39c-c99d-4257-9211-d4af4caf84f2",
        "colab": {
          "base_uri": "https://localhost:8080/",
          "height": 175
        }
      },
      "source": [
        "some_func(10)"
      ],
      "execution_count": 0,
      "outputs": [
        {
          "output_type": "error",
          "ename": "TypeError",
          "evalue": "ignored",
          "traceback": [
            "\u001b[0;31m---------------------------------------------------------------------------\u001b[0m",
            "\u001b[0;31mTypeError\u001b[0m                                 Traceback (most recent call last)",
            "\u001b[0;32m<ipython-input-16-7ffbd1c687f4>\u001b[0m in \u001b[0;36m<module>\u001b[0;34m()\u001b[0m\n\u001b[0;32m----> 1\u001b[0;31m \u001b[0msome_func\u001b[0m\u001b[0;34m(\u001b[0m\u001b[0;36m10\u001b[0m\u001b[0;34m)\u001b[0m\u001b[0;34m\u001b[0m\u001b[0;34m\u001b[0m\u001b[0m\n\u001b[0m",
            "\u001b[0;31mTypeError\u001b[0m: some_func() takes 0 positional arguments but 1 was given"
          ]
        }
      ]
    },
    {
      "cell_type": "code",
      "metadata": {
        "colab_type": "code",
        "id": "pR0B_FirZKFH",
        "colab": {}
      },
      "source": [
        "def defaultArg( age, name = \"Narek\"):\n",
        "    print(\"Hello, \" + name)\n",
        "    print(name+\"'s age is \", age)"
      ],
      "execution_count": 0,
      "outputs": []
    },
    {
      "cell_type": "code",
      "metadata": {
        "colab_type": "code",
        "id": "xvcGzBtLZWhc",
        "outputId": "9ac60d9d-bd4a-4441-a41f-b68e6db69893",
        "colab": {
          "base_uri": "https://localhost:8080/",
          "height": 54
        }
      },
      "source": [
        "defaultArg(20)"
      ],
      "execution_count": 0,
      "outputs": [
        {
          "output_type": "stream",
          "text": [
            "Hello, Narek\n",
            "Narek's age is  20\n"
          ],
          "name": "stdout"
        }
      ]
    },
    {
      "cell_type": "code",
      "metadata": {
        "colab_type": "code",
        "id": "Az6lNeECZcE3",
        "outputId": "c005aa26-54f2-4119-a459-0dc1b111c50e",
        "colab": {
          "base_uri": "https://localhost:8080/",
          "height": 54
        }
      },
      "source": [
        "defaultArg(45,\"Ashot\")"
      ],
      "execution_count": 0,
      "outputs": [
        {
          "output_type": "stream",
          "text": [
            "Hello, Ashot\n",
            "Ashot's age is  45\n"
          ],
          "name": "stdout"
        }
      ]
    },
    {
      "cell_type": "code",
      "metadata": {
        "colab_type": "code",
        "id": "FFaqJW0lZ3sv",
        "outputId": "c824f05a-c8e0-44cd-d6c1-43a138d65284",
        "colab": {
          "base_uri": "https://localhost:8080/",
          "height": 269
        }
      },
      "source": [
        "defaultArg(\"Aram\", 20)"
      ],
      "execution_count": 0,
      "outputs": [
        {
          "output_type": "error",
          "ename": "TypeError",
          "evalue": "ignored",
          "traceback": [
            "\u001b[0;31m---------------------------------------------------------------------------\u001b[0m",
            "\u001b[0;31mTypeError\u001b[0m                                 Traceback (most recent call last)",
            "\u001b[0;32m<ipython-input-25-cb5c46ebee46>\u001b[0m in \u001b[0;36m<module>\u001b[0;34m()\u001b[0m\n\u001b[0;32m----> 1\u001b[0;31m \u001b[0mdefaultArg\u001b[0m\u001b[0;34m(\u001b[0m\u001b[0;34m\"Aram\"\u001b[0m\u001b[0;34m,\u001b[0m \u001b[0;36m20\u001b[0m\u001b[0;34m)\u001b[0m\u001b[0;34m\u001b[0m\u001b[0;34m\u001b[0m\u001b[0m\n\u001b[0m",
            "\u001b[0;32m<ipython-input-23-d259190488a9>\u001b[0m in \u001b[0;36mdefaultArg\u001b[0;34m(age, name)\u001b[0m\n\u001b[1;32m      1\u001b[0m \u001b[0;32mdef\u001b[0m \u001b[0mdefaultArg\u001b[0m\u001b[0;34m(\u001b[0m \u001b[0mage\u001b[0m\u001b[0;34m,\u001b[0m \u001b[0mname\u001b[0m \u001b[0;34m=\u001b[0m \u001b[0;34m\"Narek\"\u001b[0m\u001b[0;34m)\u001b[0m\u001b[0;34m:\u001b[0m\u001b[0;34m\u001b[0m\u001b[0;34m\u001b[0m\u001b[0m\n\u001b[0;32m----> 2\u001b[0;31m     \u001b[0mprint\u001b[0m\u001b[0;34m(\u001b[0m\u001b[0;34m\"Hello, \"\u001b[0m \u001b[0;34m+\u001b[0m \u001b[0mname\u001b[0m\u001b[0;34m)\u001b[0m\u001b[0;34m\u001b[0m\u001b[0;34m\u001b[0m\u001b[0m\n\u001b[0m\u001b[1;32m      3\u001b[0m     \u001b[0mprint\u001b[0m\u001b[0;34m(\u001b[0m\u001b[0mname\u001b[0m\u001b[0;34m+\u001b[0m\u001b[0;34m\"'s age is \"\u001b[0m\u001b[0;34m,\u001b[0m \u001b[0mage\u001b[0m\u001b[0;34m)\u001b[0m\u001b[0;34m\u001b[0m\u001b[0;34m\u001b[0m\u001b[0m\n",
            "\u001b[0;31mTypeError\u001b[0m: must be str, not int"
          ]
        }
      ]
    },
    {
      "cell_type": "code",
      "metadata": {
        "colab_type": "code",
        "id": "SBQqT42wZfes",
        "outputId": "38b20709-ebb1-4bad-91b1-d5c8ac006ffc",
        "colab": {
          "base_uri": "https://localhost:8080/",
          "height": 54
        }
      },
      "source": [
        "defaultArg(name = \"Vardan\", age =19 )"
      ],
      "execution_count": 0,
      "outputs": [
        {
          "output_type": "stream",
          "text": [
            "Hello, Vardan\n",
            "Vardan's age is  19\n"
          ],
          "name": "stdout"
        }
      ]
    },
    {
      "cell_type": "markdown",
      "metadata": {
        "colab_type": "text",
        "id": "WkWOOWprcIFC"
      },
      "source": [
        "def func(*iterable)"
      ]
    },
    {
      "cell_type": "code",
      "metadata": {
        "colab_type": "code",
        "id": "CwzrjnaLZzFR",
        "outputId": "2d20129f-16d3-4c0c-9b96-192fbce2babe",
        "colab": {
          "base_uri": "https://localhost:8080/",
          "height": 73
        }
      },
      "source": [
        "def test_func(*argv):\n",
        "    #print(type(argv))\n",
        "    for arg in argv:\n",
        "        print(\"another arg in *argv:\", arg)\n",
        "test_func(\"python\", \"c++\", \"jave\")\n"
      ],
      "execution_count": 0,
      "outputs": [
        {
          "output_type": "stream",
          "text": [
            "another arg in *argv: python\n",
            "another arg in *argv: c++\n",
            "another arg in *argv: jave\n"
          ],
          "name": "stdout"
        }
      ]
    },
    {
      "cell_type": "code",
      "metadata": {
        "colab_type": "code",
        "id": "NsyvhGa5aQIz",
        "outputId": "5f4803c3-6b1d-4688-de48-1f707ec8418f",
        "colab": {
          "base_uri": "https://localhost:8080/",
          "height": 73
        }
      },
      "source": [
        "def test_func(a1, *argv):\n",
        "    print(a1)\n",
        "    for arg in argv:\n",
        "        print(\"another arg in *argv:\", arg)\n",
        "test_func(\"python\", \"c++\", \"jave\")"
      ],
      "execution_count": 0,
      "outputs": [
        {
          "output_type": "stream",
          "text": [
            "python\n",
            "another arg in *argv: c++\n",
            "another arg in *argv: jave\n"
          ],
          "name": "stdout"
        }
      ]
    },
    {
      "cell_type": "markdown",
      "metadata": {
        "colab_type": "text",
        "id": "Mlxse8dzcVZS"
      },
      "source": [
        "def func(**dictionary)"
      ]
    },
    {
      "cell_type": "code",
      "metadata": {
        "colab_type": "code",
        "id": "fzWwAMkibibU",
        "colab": {}
      },
      "source": [
        "def test_func(**kwargs):\n",
        "    print(type(kwargs))\n",
        "    print(kwargs)\n",
        "    print(kwargs.items())\n",
        "    for key, value in kwargs.items():\n",
        "        print(\"key:\", key, \", value:\", value)"
      ],
      "execution_count": 0,
      "outputs": []
    },
    {
      "cell_type": "code",
      "metadata": {
        "colab_type": "code",
        "id": "bTimY88rcYSb",
        "outputId": "2cff32d6-a9cb-4cb5-d552-9fcf25607ecb",
        "colab": {
          "base_uri": "https://localhost:8080/",
          "height": 111
        }
      },
      "source": [
        "test_func(name=[\"Alice\", 'lala'], lname = \"lala\")"
      ],
      "execution_count": 0,
      "outputs": [
        {
          "output_type": "stream",
          "text": [
            "<class 'dict'>\n",
            "{'name': ['Alice', 'lala'], 'lname': 'lala'}\n",
            "dict_items([('name', ['Alice', 'lala']), ('lname', 'lala')])\n",
            "key: name , value: ['Alice', 'lala']\n",
            "key: lname , value: lala\n"
          ],
          "name": "stdout"
        }
      ]
    },
    {
      "cell_type": "code",
      "metadata": {
        "colab_type": "code",
        "id": "Y0tyTv9NcbWu",
        "outputId": "b4a84bdb-9ad1-4bda-d053-9d996a5e309c",
        "colab": {
          "base_uri": "https://localhost:8080/",
          "height": 92
        }
      },
      "source": [
        "def test_func(*args, **kwargs):\n",
        "    for arg in args:\n",
        "        print(\"in args: \", arg)\n",
        "    for key, value in kwargs.items():\n",
        "        print(\"in kwargs: \", \"key:\", key, \", value:\", value)\n",
        "test_func(1, 2, 3, name=\"Alice\")"
      ],
      "execution_count": 0,
      "outputs": [
        {
          "output_type": "stream",
          "text": [
            "in args:  1\n",
            "in args:  2\n",
            "in args:  3\n",
            "in kwargs:  key: name , value: Alice\n"
          ],
          "name": "stdout"
        }
      ]
    },
    {
      "cell_type": "code",
      "metadata": {
        "colab_type": "code",
        "id": "8LJei-BUvuGE",
        "colab": {}
      },
      "source": [
        "#returning multiple values\n",
        "def func(l):\n",
        "    highest = max(l)\n",
        "    lowest = min(l)\n",
        "    first = l[0]\n",
        "    last = l[-1]\n",
        "    return highest,lowest,first,last"
      ],
      "execution_count": 0,
      "outputs": []
    },
    {
      "cell_type": "code",
      "metadata": {
        "colab_type": "code",
        "id": "PQNjzRaQvzHG",
        "outputId": "63c45eb6-7d74-415b-9081-2f9a305062ce",
        "colab": {
          "base_uri": "https://localhost:8080/",
          "height": 35
        }
      },
      "source": [
        "my_list = [10,50,30,12,6,8,100]\n",
        "func(my_list)"
      ],
      "execution_count": 0,
      "outputs": [
        {
          "output_type": "execute_result",
          "data": {
            "text/plain": [
              "(100, 6, 10, 100)"
            ]
          },
          "metadata": {
            "tags": []
          },
          "execution_count": 3
        }
      ]
    },
    {
      "cell_type": "code",
      "metadata": {
        "colab_type": "code",
        "id": "lm6btxAEv341",
        "outputId": "01a01cb4-da7d-453e-d59f-da258cf099f7",
        "colab": {
          "base_uri": "https://localhost:8080/",
          "height": 127
        }
      },
      "source": [
        "a, b, c, d = func(my_list)\n",
        "x = func(my_list)\n",
        "print( ' a =',a,'\\n b =',b,'\\n c =',c,'\\n d =',d)\n",
        "print(x)\n",
        "print(\"a = \", x[0])"
      ],
      "execution_count": 0,
      "outputs": [
        {
          "output_type": "stream",
          "text": [
            " a = 100 \n",
            " b = 6 \n",
            " c = 10 \n",
            " d = 100\n",
            "(100, 6, 10, 100)\n",
            "a =  100\n"
          ],
          "name": "stdout"
        }
      ]
    },
    {
      "cell_type": "markdown",
      "metadata": {
        "colab_type": "text",
        "id": "FCLf4U7zcx-K"
      },
      "source": [
        "### Function Docstring"
      ]
    },
    {
      "cell_type": "code",
      "metadata": {
        "colab_type": "code",
        "id": "fsMcRvbEcnhp",
        "colab": {}
      },
      "source": [
        "def summary(x, y):\n",
        "  \"\"\"\n",
        "  param: x: first number,\n",
        "  param: y: second number,\n",
        "  :return: sum of arguments\n",
        "  \"\"\"\n",
        "  z = x+y\n",
        "  return z"
      ],
      "execution_count": 0,
      "outputs": []
    },
    {
      "cell_type": "code",
      "metadata": {
        "colab_type": "code",
        "id": "-OHxNvPxdQrH",
        "outputId": "d256e30d-1c41-4f15-996b-7dd7c2f3d8e2",
        "colab": {
          "base_uri": "https://localhost:8080/",
          "height": 148
        }
      },
      "source": [
        "help(summary)"
      ],
      "execution_count": 0,
      "outputs": [
        {
          "output_type": "stream",
          "text": [
            "Help on function summary in module __main__:\n",
            "\n",
            "summary(x, y)\n",
            "    param: x: first number,\n",
            "    param: y: second number,\n",
            "    :return: sum of arguments\n",
            "\n"
          ],
          "name": "stdout"
        }
      ]
    },
    {
      "cell_type": "code",
      "metadata": {
        "colab_type": "code",
        "id": "ubAkqVd3dTiP",
        "outputId": "72c74696-6d40-4f7f-b030-1c9d34c19b94",
        "colab": {
          "base_uri": "https://localhost:8080/",
          "height": 186
        }
      },
      "source": [
        "help(sum)"
      ],
      "execution_count": 0,
      "outputs": [
        {
          "output_type": "stream",
          "text": [
            "Help on built-in function sum in module builtins:\n",
            "\n",
            "sum(iterable, start=0, /)\n",
            "    Return the sum of a 'start' value (default: 0) plus an iterable of numbers\n",
            "    \n",
            "    When the iterable is empty, return the start value.\n",
            "    This function is intended specifically for use with numeric values and may\n",
            "    reject non-numeric types.\n",
            "\n"
          ],
          "name": "stdout"
        }
      ]
    },
    {
      "cell_type": "code",
      "metadata": {
        "colab_type": "code",
        "id": "00U8LTaVdWsp",
        "outputId": "5ce1e3b6-4788-448d-c691-628389fab0c9",
        "colab": {
          "base_uri": "https://localhost:8080/",
          "height": 111
        }
      },
      "source": [
        "print(summary.__doc__)"
      ],
      "execution_count": 0,
      "outputs": [
        {
          "output_type": "stream",
          "text": [
            "\n",
            "  param: x: first number,\n",
            "  param: y: second number,\n",
            "  :return: sum of arguments\n",
            "  \n"
          ],
          "name": "stdout"
        }
      ]
    },
    {
      "cell_type": "code",
      "metadata": {
        "colab_type": "code",
        "id": "CpJT9_jgddfm",
        "outputId": "fa1e1206-e209-44f9-9b1b-82004951b7fc",
        "colab": {
          "base_uri": "https://localhost:8080/",
          "height": 167
        }
      },
      "source": [
        "print(print.__doc__)"
      ],
      "execution_count": 0,
      "outputs": [
        {
          "output_type": "stream",
          "text": [
            "print(value, ..., sep=' ', end='\\n', file=sys.stdout, flush=False)\n",
            "\n",
            "Prints the values to a stream, or to sys.stdout by default.\n",
            "Optional keyword arguments:\n",
            "file:  a file-like object (stream); defaults to the current sys.stdout.\n",
            "sep:   string inserted between values, default a space.\n",
            "end:   string appended after the last value, default a newline.\n",
            "flush: whether to forcibly flush the stream.\n"
          ],
          "name": "stdout"
        }
      ]
    },
    {
      "cell_type": "markdown",
      "metadata": {
        "colab_type": "text",
        "id": "siefy9Qugkcn"
      },
      "source": [
        "### Anonymous Functions: Lambda"
      ]
    },
    {
      "cell_type": "markdown",
      "metadata": {
        "colab_type": "text",
        "id": "I8VMUHKyftfd"
      },
      "source": [
        "If you want to reduce number of lines in your code use lambda expressions"
      ]
    },
    {
      "cell_type": "code",
      "metadata": {
        "colab_type": "code",
        "id": "GD-WUTuwdtR5",
        "colab": {}
      },
      "source": [
        "z1 = lambda x: x**2"
      ],
      "execution_count": 0,
      "outputs": []
    },
    {
      "cell_type": "code",
      "metadata": {
        "colab_type": "code",
        "id": "4jcvWhkKf2ep",
        "outputId": "46c6cfe0-80f0-4f12-997d-f11796ff705a",
        "colab": {
          "base_uri": "https://localhost:8080/",
          "height": 36
        }
      },
      "source": [
        "z1(8)"
      ],
      "execution_count": 0,
      "outputs": [
        {
          "output_type": "execute_result",
          "data": {
            "text/plain": [
              "64"
            ]
          },
          "metadata": {
            "tags": []
          },
          "execution_count": 38
        }
      ]
    },
    {
      "cell_type": "code",
      "metadata": {
        "colab_type": "code",
        "id": "8LkABxKaf3Z1",
        "outputId": "cefc4f09-4dbe-4aa5-a45d-6f9277a0cd89",
        "colab": {
          "base_uri": "https://localhost:8080/",
          "height": 36
        }
      },
      "source": [
        "z2 = lambda x, y: x+y \n",
        "z2(6,4)"
      ],
      "execution_count": 0,
      "outputs": [
        {
          "output_type": "execute_result",
          "data": {
            "text/plain": [
              "10"
            ]
          },
          "metadata": {
            "tags": []
          },
          "execution_count": 39
        }
      ]
    },
    {
      "cell_type": "code",
      "metadata": {
        "colab_type": "code",
        "id": "GnlglIQcf-cb",
        "colab": {}
      },
      "source": [
        "lower = (lambda x, y: x if x < y else y)"
      ],
      "execution_count": 0,
      "outputs": []
    },
    {
      "cell_type": "code",
      "metadata": {
        "colab_type": "code",
        "id": "Dnt-TeKjlcRl",
        "outputId": "fbd6adba-0167-4a3f-e5ae-a9dbcd94e674",
        "colab": {
          "base_uri": "https://localhost:8080/",
          "height": 36
        }
      },
      "source": [
        "lower('bb', 'aa') "
      ],
      "execution_count": 0,
      "outputs": [
        {
          "output_type": "execute_result",
          "data": {
            "text/plain": [
              "'aa'"
            ]
          },
          "metadata": {
            "tags": []
          },
          "execution_count": 41
        }
      ]
    },
    {
      "cell_type": "code",
      "metadata": {
        "colab_type": "code",
        "id": "xRbveCoIllV3",
        "colab": {}
      },
      "source": [
        ""
      ],
      "execution_count": 0,
      "outputs": []
    }
  ]
}