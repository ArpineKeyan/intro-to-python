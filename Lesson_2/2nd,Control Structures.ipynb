{
 "cells": [
  {
   "cell_type": "markdown",
   "metadata": {
    "colab_type": "text",
    "id": "IgbWS31gyNia"
   },
   "source": [
    "### Booleans"
   ]
  },
  {
   "cell_type": "markdown",
   "metadata": {
    "colab_type": "text",
    "id": "Qdw3lkBjyNig"
   },
   "source": [
    "bool, is numeric in nature because its two values, True and False, are just customized versions of the integers 1 and 0 that print themselves differently"
   ]
  },
  {
   "cell_type": "code",
   "execution_count": 0,
   "metadata": {
    "colab": {},
    "colab_type": "code",
    "id": "CkoxgXJQyNim",
    "outputId": "f2c5527b-ca2d-4701-bde4-21c6c6f12bc6"
   },
   "outputs": [
    {
     "name": "stdout",
     "output_type": "stream",
     "text": [
      "True <class 'bool'>\n",
      "True\n"
     ]
    }
   ],
   "source": [
    "my_var = True\n",
    "print(my_var, type(my_var))\n",
    "print(isinstance(True, int ))"
   ]
  },
  {
   "cell_type": "markdown",
   "metadata": {
    "colab_type": "text",
    "id": "atXF0XKuyNi1"
   },
   "source": [
    "we can compare variables "
   ]
  },
  {
   "cell_type": "code",
   "execution_count": 0,
   "metadata": {
    "colab": {},
    "colab_type": "code",
    "id": "7OkODYklyNi3",
    "outputId": "ff8f6552-f132-46ee-d337-999627dfbc64"
   },
   "outputs": [
    {
     "data": {
      "text/plain": [
       "False"
      ]
     },
     "execution_count": 2,
     "metadata": {
      "tags": []
     },
     "output_type": "execute_result"
    }
   ],
   "source": [
    "2 == 3"
   ]
  },
  {
   "cell_type": "code",
   "execution_count": 0,
   "metadata": {
    "colab": {},
    "colab_type": "code",
    "id": "EE6ubxHvyNi_",
    "outputId": "577d90e5-816b-4d22-9a9f-a96dd2bf2c06"
   },
   "outputs": [
    {
     "data": {
      "text/plain": [
       "True"
      ]
     },
     "execution_count": 3,
     "metadata": {
      "tags": []
     },
     "output_type": "execute_result"
    }
   ],
   "source": [
    "'python' == 'python'"
   ]
  },
  {
   "cell_type": "code",
   "execution_count": 0,
   "metadata": {
    "colab": {},
    "colab_type": "code",
    "id": "zlIfYkEgyNjJ",
    "outputId": "714dd8cf-7c15-48c3-8169-818e9633732d"
   },
   "outputs": [
    {
     "data": {
      "text/plain": [
       "True"
      ]
     },
     "execution_count": 4,
     "metadata": {
      "tags": []
     },
     "output_type": "execute_result"
    }
   ],
   "source": [
    "bool(1)"
   ]
  },
  {
   "cell_type": "code",
   "execution_count": 0,
   "metadata": {
    "colab": {},
    "colab_type": "code",
    "id": "xcF5rFdlyNjQ",
    "outputId": "13e2fc3c-25d4-4621-b26c-b4807514423e"
   },
   "outputs": [
    {
     "data": {
      "text/plain": [
       "True"
      ]
     },
     "execution_count": 5,
     "metadata": {
      "tags": []
     },
     "output_type": "execute_result"
    }
   ],
   "source": [
    "bool(2)"
   ]
  },
  {
   "cell_type": "code",
   "execution_count": 0,
   "metadata": {
    "colab": {},
    "colab_type": "code",
    "id": "hI82IkIUyNjX",
    "outputId": "197b3518-8dd6-4e75-bd91-268a33281d01"
   },
   "outputs": [
    {
     "data": {
      "text/plain": [
       "False"
      ]
     },
     "execution_count": 6,
     "metadata": {
      "tags": []
     },
     "output_type": "execute_result"
    }
   ],
   "source": [
    "bool(0)"
   ]
  },
  {
   "cell_type": "code",
   "execution_count": 0,
   "metadata": {
    "colab": {},
    "colab_type": "code",
    "id": "APkBM_9iyNje",
    "outputId": "79be1378-1432-42c9-cf36-85c15fa18d1d"
   },
   "outputs": [
    {
     "data": {
      "text/plain": [
       "True"
      ]
     },
     "execution_count": 8,
     "metadata": {
      "tags": []
     },
     "output_type": "execute_result"
    }
   ],
   "source": [
    "bool(\"spam\")"
   ]
  },
  {
   "cell_type": "code",
   "execution_count": 0,
   "metadata": {
    "colab": {},
    "colab_type": "code",
    "id": "DHTDuo7uyNjm",
    "outputId": "20649afe-1961-4593-f6dd-2d37c4e71670"
   },
   "outputs": [
    {
     "data": {
      "text/plain": [
       "False"
      ]
     },
     "execution_count": 9,
     "metadata": {
      "tags": []
     },
     "output_type": "execute_result"
    }
   ],
   "source": [
    "bool(None)"
   ]
  },
  {
   "cell_type": "markdown",
   "metadata": {
    "colab_type": "text",
    "id": "FiqObz9QIlOz"
   },
   "source": [
    "### BitWise Operations"
   ]
  },
  {
   "cell_type": "code",
   "execution_count": 0,
   "metadata": {
    "colab": {
     "base_uri": "https://localhost:8080/",
     "height": 54
    },
    "colab_type": "code",
    "executionInfo": {
     "elapsed": 932,
     "status": "ok",
     "timestamp": 1584023154561,
     "user": {
      "displayName": "Mher Khachatryan",
      "photoUrl": "https://lh3.googleusercontent.com/a-/AOh14Gg7mWy9K0f3tbN44KdFDgjO--QGes9AP4U_Sf6io0o=s64",
      "userId": "11466742550492240521"
     },
     "user_tz": -240
    },
    "id": "7yLYciJnIqnj",
    "outputId": "6f4e4e6c-657f-4b2d-f5d0-0c22c9949c4a"
   },
   "outputs": [
    {
     "name": "stdout",
     "output_type": "stream",
     "text": [
      "0b1\n",
      "0b1010\n"
     ]
    }
   ],
   "source": [
    "x = 1 # 0001 in bins\n",
    "a = 10\n",
    "print(bin(x))\n",
    "print(bin(a))"
   ]
  },
  {
   "cell_type": "code",
   "execution_count": 0,
   "metadata": {
    "colab": {
     "base_uri": "https://localhost:8080/",
     "height": 54
    },
    "colab_type": "code",
    "executionInfo": {
     "elapsed": 964,
     "status": "ok",
     "timestamp": 1584023251770,
     "user": {
      "displayName": "Mher Khachatryan",
      "photoUrl": "https://lh3.googleusercontent.com/a-/AOh14Gg7mWy9K0f3tbN44KdFDgjO--QGes9AP4U_Sf6io0o=s64",
      "userId": "11466742550492240521"
     },
     "user_tz": -240
    },
    "id": "_Wk75vIeI3Xl",
    "outputId": "9b89686a-e247-49a3-b52f-3a346a567932"
   },
   "outputs": [
    {
     "name": "stdout",
     "output_type": "stream",
     "text": [
      "8\n",
      "8\n"
     ]
    }
   ],
   "source": [
    "print(x << 3)\n",
    "print(int(0b1000))\n"
   ]
  },
  {
   "cell_type": "code",
   "execution_count": 0,
   "metadata": {
    "colab": {
     "base_uri": "https://localhost:8080/",
     "height": 54
    },
    "colab_type": "code",
    "executionInfo": {
     "elapsed": 1056,
     "status": "ok",
     "timestamp": 1584023347153,
     "user": {
      "displayName": "Mher Khachatryan",
      "photoUrl": "https://lh3.googleusercontent.com/a-/AOh14Gg7mWy9K0f3tbN44KdFDgjO--QGes9AP4U_Sf6io0o=s64",
      "userId": "11466742550492240521"
     },
     "user_tz": -240
    },
    "id": "MzI5aGJzJN_f",
    "outputId": "ec448e38-e831-4b7c-abb9-bba64b7629d5"
   },
   "outputs": [
    {
     "name": "stdout",
     "output_type": "stream",
     "text": [
      "3\n",
      "0b1 0b10 0b11\n"
     ]
    }
   ],
   "source": [
    "print(x | 2) # bitwise OR (either bit = 1) \n",
    "print(bin(x), bin(2), bin(x|2))"
   ]
  },
  {
   "cell_type": "code",
   "execution_count": 0,
   "metadata": {
    "colab": {
     "base_uri": "https://localhost:8080/",
     "height": 54
    },
    "colab_type": "code",
    "executionInfo": {
     "elapsed": 803,
     "status": "ok",
     "timestamp": 1584023411362,
     "user": {
      "displayName": "Mher Khachatryan",
      "photoUrl": "https://lh3.googleusercontent.com/a-/AOh14Gg7mWy9K0f3tbN44KdFDgjO--QGes9AP4U_Sf6io0o=s64",
      "userId": "11466742550492240521"
     },
     "user_tz": -240
    },
    "id": "BPqlvtzsJm7B",
    "outputId": "72bafde1-288c-41dd-b570-19a050971f36"
   },
   "outputs": [
    {
     "name": "stdout",
     "output_type": "stream",
     "text": [
      "0\n",
      "0b1 0b10 0b0\n"
     ]
    }
   ],
   "source": [
    "print(x & 2)\n",
    "print(bin(x), bin(2), bin(x&2))"
   ]
  },
  {
   "cell_type": "code",
   "execution_count": 0,
   "metadata": {
    "colab": {
     "base_uri": "https://localhost:8080/",
     "height": 36
    },
    "colab_type": "code",
    "executionInfo": {
     "elapsed": 871,
     "status": "ok",
     "timestamp": 1584023671241,
     "user": {
      "displayName": "Mher Khachatryan",
      "photoUrl": "https://lh3.googleusercontent.com/a-/AOh14Gg7mWy9K0f3tbN44KdFDgjO--QGes9AP4U_Sf6io0o=s64",
      "userId": "11466742550492240521"
     },
     "user_tz": -240
    },
    "id": "oJAbdDsKKrEh",
    "outputId": "365b9bda-3f45-4094-adda-c6e69517036c"
   },
   "outputs": [
    {
     "data": {
      "text/plain": [
       "'0b11111111'"
      ]
     },
     "execution_count": 13,
     "metadata": {
      "tags": []
     },
     "output_type": "execute_result"
    }
   ],
   "source": [
    "X = 0xFF \n",
    "bin(X)"
   ]
  },
  {
   "cell_type": "code",
   "execution_count": 0,
   "metadata": {
    "colab": {
     "base_uri": "https://localhost:8080/",
     "height": 73
    },
    "colab_type": "code",
    "executionInfo": {
     "elapsed": 738,
     "status": "ok",
     "timestamp": 1584023855372,
     "user": {
      "displayName": "Mher Khachatryan",
      "photoUrl": "https://lh3.googleusercontent.com/a-/AOh14Gg7mWy9K0f3tbN44KdFDgjO--QGes9AP4U_Sf6io0o=s64",
      "userId": "11466742550492240521"
     },
     "user_tz": -240
    },
    "id": "BxQvpOQQKxvX",
    "outputId": "f1c106c8-d060-4ab0-9ad3-7b811a437a9a"
   },
   "outputs": [
    {
     "name": "stdout",
     "output_type": "stream",
     "text": [
      "85\n",
      "0b1010101\n",
      "0b110\n"
     ]
    }
   ],
   "source": [
    "print(X ^ 0b10101010) # Bitwise XOR: either but not both \n",
    "print(bin(X ^ 0b10101010))\n",
    "print(bin(0b101 ^ 0b011))"
   ]
  },
  {
   "cell_type": "code",
   "execution_count": 0,
   "metadata": {
    "colab": {
     "base_uri": "https://localhost:8080/",
     "height": 54
    },
    "colab_type": "code",
    "executionInfo": {
     "elapsed": 770,
     "status": "ok",
     "timestamp": 1584023887432,
     "user": {
      "displayName": "Mher Khachatryan",
      "photoUrl": "https://lh3.googleusercontent.com/a-/AOh14Gg7mWy9K0f3tbN44KdFDgjO--QGes9AP4U_Sf6io0o=s64",
      "userId": "11466742550492240521"
     },
     "user_tz": -240
    },
    "id": "tUxuK-TZLjWY",
    "outputId": "15a90cd7-8bd9-43a1-be0f-85d0cd1e9b00"
   },
   "outputs": [
    {
     "name": "stdout",
     "output_type": "stream",
     "text": [
      "85\n",
      "0x55\n"
     ]
    }
   ],
   "source": [
    "print(int('01010101', 2))\n",
    "print(hex(85))"
   ]
  },
  {
   "cell_type": "code",
   "execution_count": 0,
   "metadata": {
    "colab": {
     "base_uri": "https://localhost:8080/",
     "height": 36
    },
    "colab_type": "code",
    "executionInfo": {
     "elapsed": 1596,
     "status": "ok",
     "timestamp": 1584023928760,
     "user": {
      "displayName": "Mher Khachatryan",
      "photoUrl": "https://lh3.googleusercontent.com/a-/AOh14Gg7mWy9K0f3tbN44KdFDgjO--QGes9AP4U_Sf6io0o=s64",
      "userId": "11466742550492240521"
     },
     "user_tz": -240
    },
    "id": "f0OjjQ4TLsje",
    "outputId": "1f7416ca-0068-4f47-8cf2-b7ec446dba30"
   },
   "outputs": [
    {
     "data": {
      "text/plain": [
       "1"
      ]
     },
     "execution_count": 18,
     "metadata": {
      "tags": []
     },
     "output_type": "execute_result"
    }
   ],
   "source": [
    "x.bit_length() # length of number binary representation"
   ]
  },
  {
   "cell_type": "markdown",
   "metadata": {
    "colab_type": "text",
    "id": "UPBcdfScyNju"
   },
   "source": [
    "##### Comparison"
   ]
  },
  {
   "cell_type": "code",
   "execution_count": 0,
   "metadata": {
    "colab": {
     "base_uri": "https://localhost:8080/",
     "height": 36
    },
    "colab_type": "code",
    "executionInfo": {
     "elapsed": 1358,
     "status": "ok",
     "timestamp": 1584017359558,
     "user": {
      "displayName": "Mher Khachatryan",
      "photoUrl": "https://lh3.googleusercontent.com/a-/AOh14Gg7mWy9K0f3tbN44KdFDgjO--QGes9AP4U_Sf6io0o=s64",
      "userId": "11466742550492240521"
     },
     "user_tz": -240
    },
    "id": "lq8_3Hm6yNjv",
    "outputId": "60bfbf3b-5a98-46c2-a347-955bb3826c61"
   },
   "outputs": [
    {
     "data": {
      "text/plain": [
       "'\\n== , != , >=, <=\\n\\n'"
      ]
     },
     "execution_count": 1,
     "metadata": {
      "tags": []
     },
     "output_type": "execute_result"
    }
   ],
   "source": [
    "\"\"\"\n",
    "== , != , >=, <=\n",
    "\n",
    "\"\"\""
   ]
  },
  {
   "cell_type": "code",
   "execution_count": 0,
   "metadata": {
    "colab": {},
    "colab_type": "code",
    "id": "2bx1GoFgyNj1",
    "outputId": "7c6ebb62-3204-4db8-f946-a971362ced75"
   },
   "outputs": [
    {
     "data": {
      "text/plain": [
       "True"
      ]
     },
     "execution_count": 11,
     "metadata": {
      "tags": []
     },
     "output_type": "execute_result"
    }
   ],
   "source": [
    "2 !=1"
   ]
  },
  {
   "cell_type": "code",
   "execution_count": 0,
   "metadata": {
    "colab": {},
    "colab_type": "code",
    "id": "4gJ64Zd9yNj8",
    "outputId": "128efd8f-9747-48c0-c7d6-6e386fc6f7ae"
   },
   "outputs": [
    {
     "data": {
      "text/plain": [
       "False"
      ]
     },
     "execution_count": 12,
     "metadata": {
      "tags": []
     },
     "output_type": "execute_result"
    }
   ],
   "source": [
    "5>7"
   ]
  },
  {
   "cell_type": "code",
   "execution_count": 0,
   "metadata": {
    "colab": {},
    "colab_type": "code",
    "id": "xT3XkkzmyNkD",
    "outputId": "b934c54e-ef90-4ea0-d9b2-0588c998237a"
   },
   "outputs": [
    {
     "data": {
      "text/plain": [
       "True"
      ]
     },
     "execution_count": 5,
     "metadata": {
      "tags": []
     },
     "output_type": "execute_result"
    }
   ],
   "source": [
    "2 is 2"
   ]
  },
  {
   "cell_type": "code",
   "execution_count": 0,
   "metadata": {
    "colab": {},
    "colab_type": "code",
    "id": "-qnG1aoyyNkK",
    "outputId": "9971bf8f-6671-4a1f-8012-e9fd98e1d742"
   },
   "outputs": [
    {
     "data": {
      "text/plain": [
       "True"
      ]
     },
     "execution_count": 6,
     "metadata": {
      "tags": []
     },
     "output_type": "execute_result"
    }
   ],
   "source": [
    "6 in {1,2,6}"
   ]
  },
  {
   "cell_type": "code",
   "execution_count": 0,
   "metadata": {
    "colab": {},
    "colab_type": "code",
    "id": "Xs6tg8dNyNkP",
    "outputId": "a6ae8088-9295-4e84-f894-79a51d9dad3c"
   },
   "outputs": [
    {
     "data": {
      "text/plain": [
       "True"
      ]
     },
     "execution_count": 7,
     "metadata": {
      "tags": []
     },
     "output_type": "execute_result"
    }
   ],
   "source": [
    "7 not in {1,2,6}"
   ]
  },
  {
   "cell_type": "markdown",
   "metadata": {
    "colab_type": "text",
    "id": "VYiaWK8WyNkV"
   },
   "source": [
    "#### Conditionals"
   ]
  },
  {
   "cell_type": "code",
   "execution_count": 0,
   "metadata": {
    "colab": {},
    "colab_type": "code",
    "id": "m_kx_lCUyNkY",
    "outputId": "18d0a19c-9b37-4634-c802-a047a18f3085"
   },
   "outputs": [
    {
     "data": {
      "text/plain": [
       "'\\nif test1: # if test\\n    statements1 # Associated block\\nelif test2: # Optional elifs\\n    statements2\\nelse:\\n    statements3 # Optional\\n'"
      ]
     },
     "execution_count": 14,
     "metadata": {
      "tags": []
     },
     "output_type": "execute_result"
    }
   ],
   "source": [
    "# no ;s no {}s \n",
    "\"\"\"\n",
    "if test1: # if test\n",
    "    statements1 # Associated block\n",
    "elif test2: # Optional elifs\n",
    "    statements2\n",
    "else:\n",
    "    statements3 # Optional\n",
    "\"\"\""
   ]
  },
  {
   "cell_type": "code",
   "execution_count": 0,
   "metadata": {
    "colab": {},
    "colab_type": "code",
    "id": "Sk82pI1uyNke",
    "outputId": "c7695f7a-f912-4869-de3f-d06c1f1fe8fa"
   },
   "outputs": [
    {
     "name": "stdout",
     "output_type": "stream",
     "text": [
      "Spam\n"
     ]
    }
   ],
   "source": [
    "if True:\n",
    "    print(\"Spam\")\n",
    "elif True:\n",
    "    print(\"Egg\")\n",
    "else:\n",
    "    print(\"try to print this\")"
   ]
  },
  {
   "cell_type": "code",
   "execution_count": 0,
   "metadata": {
    "colab": {},
    "colab_type": "code",
    "id": "Tgrl1pzMyNki",
    "outputId": "2e93a920-410d-4d5b-92cb-e8bc1cfeeff8"
   },
   "outputs": [
    {
     "name": "stdout",
     "output_type": "stream",
     "text": [
      "True\n"
     ]
    }
   ],
   "source": [
    "if 1:\n",
    "    print(True)"
   ]
  },
  {
   "cell_type": "code",
   "execution_count": 0,
   "metadata": {
    "colab": {},
    "colab_type": "code",
    "id": "ZtVXwoy4yNkn",
    "outputId": "e6465876-8e17-47e6-fbeb-d88436d3d7b9"
   },
   "outputs": [
    {
     "data": {
      "text/plain": [
       "12"
      ]
     },
     "execution_count": 3,
     "metadata": {
      "tags": []
     },
     "output_type": "execute_result"
    }
   ],
   "source": [
    "# come on it's python\n",
    "x = 12\n",
    "y = 4\n",
    "z = 6\n",
    "x if y<z else x**2"
   ]
  },
  {
   "cell_type": "markdown",
   "metadata": {
    "colab_type": "text",
    "id": "jgoCoXBayNks"
   },
   "source": [
    "Switch in Python"
   ]
  },
  {
   "cell_type": "code",
   "execution_count": 0,
   "metadata": {
    "colab": {},
    "colab_type": "code",
    "id": "osVGflvxyNku",
    "outputId": "2c575295-b68c-4544-95f6-dcefb6ac1286"
   },
   "outputs": [
    {
     "name": "stdout",
     "output_type": "stream",
     "text": [
      "1.99\n"
     ]
    }
   ],
   "source": [
    "choice = 'ham'\n",
    "print({'spam': 1.25, # A dictionary-based 'switch'\n",
    "'ham': 1.99, # Use has_key or get for default\n",
    "'eggs': 0.99,\n",
    "'bacon': 1.10}[choice])"
   ]
  },
  {
   "cell_type": "code",
   "execution_count": 0,
   "metadata": {
    "colab": {},
    "colab_type": "code",
    "id": "W0m5J6eyyNky",
    "outputId": "7a95758c-dea8-489e-ce67-033e5f8fc0f6"
   },
   "outputs": [
    {
     "name": "stdout",
     "output_type": "stream",
     "text": [
      "1.99\n"
     ]
    }
   ],
   "source": [
    "if choice == 'spam': # The equivalent if statement\n",
    "    print(1.25)\n",
    "elif choice == 'ham':\n",
    "    print(1.99)\n",
    "elif choice == 'eggs':\n",
    "    print(0.99)\n",
    "elif choice == 'bacon':\n",
    "    print(1.10)\n",
    "else:\n",
    "    print('Bad choice')"
   ]
  },
  {
   "cell_type": "markdown",
   "metadata": {
    "colab_type": "text",
    "id": "6Xpxw-uYyNk3"
   },
   "source": [
    "## Boolean Logic\n"
   ]
  },
  {
   "cell_type": "code",
   "execution_count": 0,
   "metadata": {
    "colab": {},
    "colab_type": "code",
    "id": "4rcEw-E_yNk4",
    "outputId": "de2d712b-f550-437d-b2d3-d8ca897a30a0"
   },
   "outputs": [
    {
     "name": "stdout",
     "output_type": "stream",
     "text": [
      "True\n",
      "False\n",
      "True\n",
      "False\n",
      "True\n",
      "True\n"
     ]
    }
   ],
   "source": [
    "\"\"\"\n",
    "and, or, not\n",
    "\"\"\"\n",
    "print(True and True) \n",
    "print(True and False)\n",
    "print(True or False)\n",
    "print(False or False)\n",
    "print(True or True)\n",
    "print(not False)"
   ]
  },
  {
   "cell_type": "markdown",
   "metadata": {
    "colab_type": "text",
    "id": "nUuiuX7YyNlB"
   },
   "source": [
    "##### Operator Precedence\n"
   ]
  },
  {
   "cell_type": "markdown",
   "metadata": {
    "colab_type": "text",
    "id": "R2iWhtyoyNlC"
   },
   "source": [
    "| From Highest precedence to lowest | |  |\n",
    "|---   | | --- |  \n",
    "|  () |                                    | Parentheses (grouping)|\n",
    "|f(args...) |                                 |   Function call|\n",
    "|x[index:index]  |                            |  Slicing|\n",
    "|x[index] |        \t                          |  Subscription|\n",
    "|**      |                                   |   Exponentiation|\n",
    "|~x |                                       |    Bitwise not|\n",
    "|+x, -x   |                                 |    Positive, negative|\n",
    "|*, /, %     |          \t                 |     Multiplication, division,remainder |\n",
    "|+, -      |             \t                   |   Addition, subtraction|\n",
    "|<<, >>   |              \t                   |   Bitwise shifts|\n",
    "|&  |                                         |  Bitwise AND|\n",
    "|^ |                   \t                     |   Bitwise XOR|\n",
    "| \\| |                     \t                   |   Bitwise OR|\n",
    "|in, not in, is, is not, <, <=,  >,  >=,|      | Comparisons, membership, |\n",
    "| <>, !=, == |                                 |identity | \n",
    "|not x |                                        |Boolean NOT|\n",
    "|and |                                        |  Boolean AND|\n",
    "|or |                                          | Boolean OR|\n",
    "|lambda  |                                      |Lambda expression|"
   ]
  },
  {
   "cell_type": "markdown",
   "metadata": {
    "colab_type": "text",
    "id": "F_MICVokyNlD"
   },
   "source": [
    "## While Loop"
   ]
  },
  {
   "cell_type": "code",
   "execution_count": 0,
   "metadata": {
    "colab": {},
    "colab_type": "code",
    "id": "xsLp7LRfyNlE"
   },
   "outputs": [],
   "source": [
    "\"\"\"\n",
    "while test: # Loop test\n",
    "    statements # Loop body\n",
    "else: # Optional else\n",
    "        statements # Run if didn't exit loop with break\"\"\""
   ]
  },
  {
   "cell_type": "code",
   "execution_count": 0,
   "metadata": {
    "colab": {},
    "colab_type": "code",
    "id": "5jbT-jvnyNlH"
   },
   "outputs": [],
   "source": [
    "# if runs once, while , while the statement remains true"
   ]
  },
  {
   "cell_type": "code",
   "execution_count": 0,
   "metadata": {
    "colab": {},
    "colab_type": "code",
    "id": "otYxlqhpyNlM",
    "scrolled": true
   },
   "outputs": [],
   "source": [
    "while False:\n",
    "    print(\"Stop Me!\")"
   ]
  },
  {
   "cell_type": "code",
   "execution_count": 0,
   "metadata": {
    "colab": {},
    "colab_type": "code",
    "id": "BXN1cZPqyNlR",
    "outputId": "ee7f6142-8064-46a6-9730-1198fd9ec06c"
   },
   "outputs": [
    {
     "name": "stdout",
     "output_type": "stream",
     "text": [
      "spam pam am m "
     ]
    }
   ],
   "source": [
    "x = 'spam'\n",
    "while x: # While x is not empty\n",
    "    print(x, end=' ') \n",
    "    x = x[1:]"
   ]
  },
  {
   "cell_type": "code",
   "execution_count": 0,
   "metadata": {
    "colab": {},
    "colab_type": "code",
    "id": "TFbEHCGJyNlX",
    "outputId": "d98075be-55a8-4447-e792-b0e584a658f2"
   },
   "outputs": [
    {
     "name": "stdout",
     "output_type": "stream",
     "text": [
      "1\n",
      "2\n",
      "3\n",
      "4\n",
      "5\n",
      "Finished!\n"
     ]
    }
   ],
   "source": [
    "i = 1\n",
    "while i <=5:\n",
    "    print(i)\n",
    "    i = i + 1\n",
    "\n",
    "print(\"Finished!\")"
   ]
  },
  {
   "cell_type": "code",
   "execution_count": 0,
   "metadata": {
    "colab": {},
    "colab_type": "code",
    "id": "-eD56VJpyNlf",
    "outputId": "04a430c6-9917-4c40-d79d-985d1a246095"
   },
   "outputs": [
    {
     "name": "stdout",
     "output_type": "stream",
     "text": [
      "0\n",
      "1\n",
      "2\n",
      "3\n",
      "4\n",
      "Breaking\n",
      "Finished\n"
     ]
    }
   ],
   "source": [
    "# When encountered inside a loop, the break statement causes the loop to finish immediately. \n",
    "i = 0\n",
    "while 1==1:\n",
    "    print(i)\n",
    "    i = i + 1\n",
    "    if i >= 5:\n",
    "        print(\"Breaking\")\n",
    "        break\n",
    "\n",
    "print(\"Finished\")"
   ]
  },
  {
   "cell_type": "code",
   "execution_count": 0,
   "metadata": {
    "colab": {},
    "colab_type": "code",
    "id": "RCXnfvtpyNli",
    "outputId": "95f84610-e2b6-4b51-ed1a-df3ae6e90087"
   },
   "outputs": [
    {
     "name": "stdout",
     "output_type": "stream",
     "text": [
      "1\n",
      "Skipping 2\n",
      "3\n",
      "4\n",
      "Breaking\n",
      "Finished\n"
     ]
    }
   ],
   "source": [
    "# continue jumps back to the top of the loop, rather than stopping it.\n",
    "i = 0\n",
    "while True:\n",
    "   i = i +1\n",
    "   if i == 2:\n",
    "      print(\"Skipping 2\")\n",
    "      continue\n",
    "   if i == 5:\n",
    "      print(\"Breaking\")\n",
    "      break\n",
    "   print(i)\n",
    "\n",
    "print(\"Finished\")"
   ]
  },
  {
   "cell_type": "code",
   "execution_count": 0,
   "metadata": {
    "colab": {},
    "colab_type": "code",
    "id": "lbQuXgIJyNlm",
    "outputId": "e6cd9883-d4ee-4867-9c7e-4aa6665db5b6"
   },
   "outputs": [
    {
     "ename": "KeyboardInterrupt",
     "evalue": "",
     "output_type": "error",
     "traceback": [
      "\u001b[1;31m---------------------------------------------------------------------------\u001b[0m",
      "\u001b[1;31mKeyboardInterrupt\u001b[0m                         Traceback (most recent call last)",
      "\u001b[1;32m<ipython-input-26-caba74ebe032>\u001b[0m in \u001b[0;36m<module>\u001b[1;34m\u001b[0m\n\u001b[0;32m      1\u001b[0m \u001b[1;31m# pass Does nothing at all: it’s an empty statement placeholder\u001b[0m\u001b[1;33m\u001b[0m\u001b[1;33m\u001b[0m\u001b[1;33m\u001b[0m\u001b[0m\n\u001b[0;32m      2\u001b[0m \u001b[0mi\u001b[0m \u001b[1;33m=\u001b[0m \u001b[1;36m10\u001b[0m\u001b[1;33m\u001b[0m\u001b[1;33m\u001b[0m\u001b[0m\n\u001b[1;32m----> 3\u001b[1;33m \u001b[1;32mwhile\u001b[0m \u001b[0mi\u001b[0m\u001b[1;33m>\u001b[0m\u001b[1;36m0\u001b[0m\u001b[1;33m:\u001b[0m\u001b[1;33m\u001b[0m\u001b[1;33m\u001b[0m\u001b[0m\n\u001b[0m\u001b[0;32m      4\u001b[0m     \u001b[1;32mpass\u001b[0m\u001b[1;33m\u001b[0m\u001b[1;33m\u001b[0m\u001b[0m\n\u001b[0;32m      5\u001b[0m \u001b[1;33m\u001b[0m\u001b[0m\n",
      "\u001b[1;31mKeyboardInterrupt\u001b[0m: "
     ]
    }
   ],
   "source": [
    "# pass Does nothing at all: it’s an empty statement placeholder\n",
    "i = 10\n",
    "while i>0:\n",
    "    pass\n",
    "    "
   ]
  },
  {
   "cell_type": "markdown",
   "metadata": {
    "colab_type": "text",
    "id": "pXto98mPyNlr"
   },
   "source": [
    "else in loop is unique to Python!\n",
    "it’s executed if the loop exits without running into a break statement"
   ]
  },
  {
   "cell_type": "code",
   "execution_count": 0,
   "metadata": {
    "colab": {},
    "colab_type": "code",
    "id": "VXgQgGSUyNlt",
    "outputId": "6f9d2bdc-7c40-4bfd-baac-c2ca64204036"
   },
   "outputs": [
    {
     "name": "stdout",
     "output_type": "stream",
     "text": [
      "not found\n"
     ]
    }
   ],
   "source": [
    "# instead of doing this \n",
    "found = False\n",
    "while x and not found:\n",
    "    if match(x[0]): # Value at front?\n",
    "        print('Ni')\n",
    "        found = True\n",
    "    else:\n",
    "        x = x[1:] # Slice off front and repeat\n",
    "if not found:\n",
    "    print('not found')"
   ]
  },
  {
   "cell_type": "code",
   "execution_count": 0,
   "metadata": {
    "colab": {},
    "colab_type": "code",
    "id": "uYneFIn-yNlw",
    "outputId": "d432ab58-16ef-4b54-8ac5-8eae4cabe56b"
   },
   "outputs": [
    {
     "name": "stdout",
     "output_type": "stream",
     "text": [
      "Not found\n"
     ]
    }
   ],
   "source": [
    "# we can do this\n",
    "while x: # Exit when x empty\n",
    "    if match(x[0]):\n",
    "        print('Ni')\n",
    "        break # Exit, go around else\n",
    "    x = x[1:]\n",
    "else:\n",
    "    print('Not found')\n"
   ]
  }
 ],
 "metadata": {
  "colab": {
   "name": "3th, Control Structures.ipynb",
   "provenance": []
  },
  "kernelspec": {
   "display_name": "Python 3",
   "language": "python",
   "name": "python3"
  },
  "language_info": {
   "codemirror_mode": {
    "name": "ipython",
    "version": 3
   },
   "file_extension": ".py",
   "mimetype": "text/x-python",
   "name": "python",
   "nbconvert_exporter": "python",
   "pygments_lexer": "ipython3",
   "version": "3.7.3"
  }
 },
 "nbformat": 4,
 "nbformat_minor": 1
}
