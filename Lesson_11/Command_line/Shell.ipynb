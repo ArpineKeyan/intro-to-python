{
 "cells": [
  {
   "cell_type": "markdown",
   "metadata": {
    "colab_type": "text",
    "id": "lxM5iNfwTCP1"
   },
   "source": [
    "# IPython and Shell Commands"
   ]
  },
  {
   "cell_type": "code",
   "execution_count": 5,
   "metadata": {},
   "outputs": [
    {
     "name": "stdout",
     "output_type": "stream",
     "text": [
      "                 (__) \r\n",
      "                 (oo) \r\n",
      "           /------\\/ \r\n",
      "          / |    ||   \r\n",
      "         *  /\\---/\\ \r\n",
      "            ~~   ~~   \r\n",
      "...\"Have you mooed today?\"...\r\n"
     ]
    }
   ],
   "source": [
    "!apt-get moo "
   ]
  },
  {
   "cell_type": "markdown",
   "metadata": {
    "colab_type": "text",
    "id": "mK1Q0WIXTCP2"
   },
   "source": [
    "When working interactively with the standard Python interpreter, one of the frustrations is the need to switch between multiple windows to access Python tools and system command-line tools.\n",
    "IPython bridges this gap, and gives you a syntax for executing shell commands directly from within the IPython terminal.\n",
    "The magic happens with the exclamation point: anything appearing after ``!`` on a line will be executed not by the Python kernel, but by the system command-line.\n",
    "\n",
    "The following assumes you're on a Unix-like system, such as Linux or Mac OSX.\n",
    "Some of the examples that follow will fail on Windows, which uses a different type of shell by default (though with the 2016 announcement of native Bash shells on Windows, soon this may no longer be an issue!).\n",
    "If you're unfamiliar with shell commands, I'd suggest reviewing the [Shell Tutorial](http://swcarpentry.github.io/shell-novice/) put together by the always excellent Software Carpentry Foundation."
   ]
  },
  {
   "cell_type": "markdown",
   "metadata": {},
   "source": [
    "In Unix systems, all files form a structure similar to a tree, in each directory (folder) files and other directories are stored. The very first directory that contains all the others is called the root (* root *)\n",
    "\n",
    "\n",
    "Each directory has a path (in fact, just a line) that shows where it is in this tree. \"/\" is the path of the root directory.\n",
    "\n",
    "---\n",
    "\n",
    "\n",
    "\n",
    "![alt text](http://linuxcommand.org/images/file_manager.jpg)\n",
    "\n",
    "At the command line, all commands are executed in a directory.\n",
    "\n",
    "Imagine that the file system tree is a maze, and each directory is a room with files and doors to other directories. At every moment of time you are in the same room.\n",
    "\n",
    "Let's see how we walk through our maze."
   ]
  },
  {
   "cell_type": "markdown",
   "metadata": {
    "colab_type": "text",
    "id": "DPJHECuLTCP3"
   },
   "source": [
    "## Quick Introduction to the Shell\n",
    "\n",
    "A full intro to using the shell/terminal/command-line is well beyond the scope of this chapter, but for the uninitiated we will offer a quick introduction here.\n",
    "The shell is a way to interact textually with your computer.\n",
    "Ever since the mid 1980s, when Microsoft and Apple introduced the first versions of their now ubiquitous graphical operating systems, most computer users have interacted with their operating system through familiar clicking of menus and drag-and-drop movements.\n",
    "But operating systems existed long before these graphical user interfaces, and were primarily controlled through sequences of text input: at the prompt, the user would type a command, and the computer would do what the user told it to.\n",
    "Those early prompt systems are the precursors of the shells and terminals that most active data scientists still use today.\n",
    "\n",
    "Someone unfamiliar with the shell might ask why you would bother with this, when many results can be accomplished by simply clicking on icons and menus.\n",
    "A shell user might reply with another question: why hunt icons and click menus when you can accomplish things much more easily by typing?\n",
    "While it might sound like a typical tech preference impasse, when moving beyond basic tasks it quickly becomes clear that the shell offers much more control of advanced tasks, though admittedly the learning curve can intimidate the average computer user.\n",
    "\n",
    "As an example, here is a sample of a Linux/OSX shell session where a user explores, creates, and modifies directories and files on their system (``osx:~ $`` is the prompt, and everything after the ``$`` sign is the typed command; text that is preceded by a ``#`` is meant just as description, rather than something you would actually type in):\n",
    "\n",
    "```bash\n",
    "ml-02:~ $ echo \"hello world\"             # echo is like Python's print function\n",
    "hello world\n",
    "\n",
    "ml-02:~ $ pwd                            # pwd = print working directory\n",
    "/home/ml-02/Learning/Command_line      # this is the \"path\" that we're sitting in\n",
    "\n",
    "ml-02:~ $ ls                             # ls = list working directory contents\n",
    "notebooks  projects Shell.ipynb\n",
    "\n",
    "ml-02:Command_line$ cd projects/                   # cd = change directory\n",
    "\n",
    "ml-02:projects $ pwd\n",
    "/home/ml-02/Learning/Command_line/projects\n",
    "\n",
    "ml-02:projects $ touch myproject.txt\n",
    "\n",
    "ml-02:projects $ ls\n",
    "project1   project2   myproject.txt\n",
    "\n",
    "ml-02:projects $ mkdir myproject          # mkdir = make new directory\n",
    "\n",
    "ml-02:projects $ cd myproject/\n",
    "\n",
    "ml-02:myproject $ mv ../myproject.txt ./  # mv = move file. Here we're moving the\n",
    "                                        # file myproject.txt from one directory\n",
    "                                        # up (../) to the current directory (./)\n",
    "ml-02:myproject $ ls\n",
    "myproject.txt\n",
    "```\n",
    "\n",
    "Notice that all of this is just a compact way to do familiar operations (navigating a directory structure, creating a directory, moving a file, etc.) by typing commands rather than clicking icons and menus.\n",
    "Note that with just a few commands (``pwd``, ``ls``, ``cd``, ``mkdir``, and ``cp``) you can do many of the most common file operations.\n",
    "It's when you go beyond these basics that the shell approach becomes really powerful.\n"
   ]
  },
  {
   "cell_type": "markdown",
   "metadata": {
    "colab_type": "text",
    "id": "sawVS7IJTCP4"
   },
   "source": [
    "## Shell Commands in IPython\n",
    "\n",
    "Any command that works at the command-line can be used in IPython by prefixing it with the ``!`` character.\n",
    "For example, the ``ls``, ``pwd``, and ``echo`` commands can be run as follows:\n",
    "`"
   ]
  },
  {
   "cell_type": "code",
   "execution_count": 19,
   "metadata": {},
   "outputs": [],
   "source": [
    "# man command  \n",
    "%man ls"
   ]
  },
  {
   "cell_type": "code",
   "execution_count": 7,
   "metadata": {},
   "outputs": [
    {
     "name": "stdout",
     "output_type": "stream",
     "text": [
      "01_05_IPython_And_Shell_Commands.ipynb\tnotebooks  projects  Shell.ipynb\r\n"
     ]
    }
   ],
   "source": [
    "!ls"
   ]
  },
  {
   "cell_type": "code",
   "execution_count": 8,
   "metadata": {},
   "outputs": [
    {
     "name": "stdout",
     "output_type": "stream",
     "text": [
      "/home/ml-02/Learning/Command_line\r\n"
     ]
    }
   ],
   "source": [
    "!pwd"
   ]
  },
  {
   "cell_type": "code",
   "execution_count": 9,
   "metadata": {},
   "outputs": [
    {
     "name": "stdout",
     "output_type": "stream",
     "text": [
      "printing from the shell\r\n"
     ]
    }
   ],
   "source": [
    "!echo \"printing from the shell\""
   ]
  },
  {
   "cell_type": "markdown",
   "metadata": {
    "colab_type": "text",
    "id": "xnr93nPzTCP4"
   },
   "source": [
    "## Passing Values to and from the Shell\n",
    "\n",
    "Shell commands can not only be called from IPython, but can also be made to interact with the IPython namespace.\n",
    "For example, you can save the output of any shell command to a Python list using the assignment operator:\n"
   ]
  },
  {
   "cell_type": "code",
   "execution_count": 10,
   "metadata": {},
   "outputs": [],
   "source": [
    "contents = !ls"
   ]
  },
  {
   "cell_type": "code",
   "execution_count": 11,
   "metadata": {},
   "outputs": [
    {
     "name": "stdout",
     "output_type": "stream",
     "text": [
      "['01_05_IPython_And_Shell_Commands.ipynb', 'notebooks', 'projects', 'Shell.ipynb']\n"
     ]
    }
   ],
   "source": [
    "print(contents)"
   ]
  },
  {
   "cell_type": "code",
   "execution_count": 12,
   "metadata": {},
   "outputs": [],
   "source": [
    "directory = !pwd"
   ]
  },
  {
   "cell_type": "code",
   "execution_count": 13,
   "metadata": {},
   "outputs": [
    {
     "name": "stdout",
     "output_type": "stream",
     "text": [
      "['/home/ml-02/Learning/Command_line']\n"
     ]
    }
   ],
   "source": [
    "print(directory)"
   ]
  },
  {
   "cell_type": "markdown",
   "metadata": {},
   "source": [
    "\n",
    "Note that these results are not returned as lists, but as a special shell return type defined in IPython:\n"
   ]
  },
  {
   "cell_type": "code",
   "execution_count": 14,
   "metadata": {},
   "outputs": [
    {
     "data": {
      "text/plain": [
       "IPython.utils.text.SList"
      ]
     },
     "execution_count": 14,
     "metadata": {},
     "output_type": "execute_result"
    }
   ],
   "source": [
    "type(directory)"
   ]
  },
  {
   "cell_type": "markdown",
   "metadata": {},
   "source": [
    "\n",
    "This looks and acts a lot like a Python list, but has additional functionality, such as\n",
    "the ``grep`` and ``fields`` methods and the ``s``, ``n``, and ``p`` properties that allow you to search, filter, and display the results in convenient ways.\n",
    "For more information on these, you can use IPython's built-in help features."
   ]
  },
  {
   "cell_type": "markdown",
   "metadata": {
    "colab_type": "text",
    "id": "REQJgMpPTCP5"
   },
   "source": [
    "Communication in the other direction–passing Python variables into the shell–is possible using the ``{varname}`` syntax:\n"
   ]
  },
  {
   "cell_type": "code",
   "execution_count": 15,
   "metadata": {},
   "outputs": [],
   "source": [
    "message = \"hello from Python\""
   ]
  },
  {
   "cell_type": "code",
   "execution_count": 16,
   "metadata": {},
   "outputs": [
    {
     "name": "stdout",
     "output_type": "stream",
     "text": [
      "hello from Python\r\n"
     ]
    }
   ],
   "source": [
    "!echo {message}"
   ]
  },
  {
   "cell_type": "markdown",
   "metadata": {},
   "source": [
    "The curly braces contain the variable name, which is replaced by the variable's contents in the shell command."
   ]
  },
  {
   "cell_type": "markdown",
   "metadata": {
    "colab_type": "text",
    "id": "Seoq1w4hTCP6"
   },
   "source": [
    "# Shell-Related Magic Commands\n",
    "\n",
    "If you play with IPython's shell commands for a while, you might notice that you cannot use ``!cd`` to navigate the filesystem:\n"
   ]
  },
  {
   "cell_type": "code",
   "execution_count": 38,
   "metadata": {},
   "outputs": [
    {
     "name": "stdout",
     "output_type": "stream",
     "text": [
      "/home/ml-02/Learning/Command_line/projects\r\n"
     ]
    }
   ],
   "source": [
    "!pwd"
   ]
  },
  {
   "cell_type": "code",
   "execution_count": 39,
   "metadata": {},
   "outputs": [],
   "source": [
    "!cd .."
   ]
  },
  {
   "cell_type": "code",
   "execution_count": 40,
   "metadata": {},
   "outputs": [
    {
     "name": "stdout",
     "output_type": "stream",
     "text": [
      "/home/ml-02/Learning/Command_line/projects\r\n"
     ]
    }
   ],
   "source": [
    "!pwd"
   ]
  },
  {
   "cell_type": "markdown",
   "metadata": {},
   "source": [
    "The reason is that shell commands in the notebook are executed in a temporary subshell.\n",
    "If you'd like to change the working directory in a more enduring way, you can use the ``%cd`` magic command:\n"
   ]
  },
  {
   "cell_type": "code",
   "execution_count": 69,
   "metadata": {},
   "outputs": [
    {
     "name": "stdout",
     "output_type": "stream",
     "text": [
      "/home/ml-02/Learning/Command_line\n"
     ]
    }
   ],
   "source": [
    "%cd .."
   ]
  },
  {
   "cell_type": "code",
   "execution_count": 10,
   "metadata": {},
   "outputs": [
    {
     "name": "stdout",
     "output_type": "stream",
     "text": [
      "\n",
      "Automagic is ON, % prefix IS NOT needed for line magics.\n"
     ]
    }
   ],
   "source": [
    "%automagic 1"
   ]
  },
  {
   "cell_type": "code",
   "execution_count": 70,
   "metadata": {},
   "outputs": [
    {
     "name": "stdout",
     "output_type": "stream",
     "text": [
      "/home/ml-02/Learning/Command_line/projects\n"
     ]
    }
   ],
   "source": [
    "cd projects"
   ]
  },
  {
   "cell_type": "markdown",
   "metadata": {},
   "source": [
    "\n",
    "This is known as an ``automagic`` function, and this behavior can be toggled with the ``%automagic`` magic function.\n",
    "\n",
    "Besides ``%cd``, other available shell-like magic functions are ``%cat``, ``%cp``, ``%env``, ``%ls``, ``%man``, ``%mkdir``, ``%more``, ``%mv``, ``%pwd``, ``%rm``, and ``%rmdir``, any of which can be used without the ``%`` sign if ``automagic`` is on.\n",
    "This makes it so that you can almost treat the IPython prompt as if it's a normal shell:\n"
   ]
  },
  {
   "cell_type": "code",
   "execution_count": 20,
   "metadata": {},
   "outputs": [
    {
     "name": "stdout",
     "output_type": "stream",
     "text": [
      "\u001b[H\u001b[2J"
     ]
    }
   ],
   "source": [
    "#clear the terminal \n",
    "%clear"
   ]
  },
  {
   "cell_type": "markdown",
   "metadata": {},
   "source": [
    "# Kye points\n",
    "\n",
    "The file system is responsible for managing information on the disk.\n",
    "\n",
    "Information is stored in files, which are stored in directories (folders).\n",
    "\n",
    "Directories can also store other directories, which forms a directory tree.\n",
    "\n",
    "``cd path`` changes the current working directory.\n",
    "\n",
    "``ls path`` prints a listing of a specific file or directory; ls on its own lists the current working directory.\n",
    "\n",
    "``pwd`` prints the user’s current working directory.\n",
    "\n",
    "``/`` on its own is the root directory of the whole file system.\n",
    "\n",
    "A relative path specifies a location starting from the current location.\n",
    "\n",
    "An absolute path specifies a location from the root of the file system.\n",
    "\n",
    "Directory names in a path are separated with / on Unix, but \\ on Windows.\n",
    "\n",
    "``..`` means ‘the directory above the current one’; ``.`` on its own means ‘the current directory’."
   ]
  },
  {
   "cell_type": "markdown",
   "metadata": {},
   "source": [
    "## Working with files"
   ]
  },
  {
   "cell_type": "code",
   "execution_count": 57,
   "metadata": {},
   "outputs": [],
   "source": [
    "#crating folder make directory\n",
    "mkdir tmp"
   ]
  },
  {
   "cell_type": "code",
   "execution_count": 58,
   "metadata": {},
   "outputs": [
    {
     "name": "stdout",
     "output_type": "stream",
     "text": [
      "myprject.txt  \u001b[0m\u001b[01;34mmyproject\u001b[0m/  \u001b[01;34mproject1\u001b[0m/  \u001b[01;34mproject2\u001b[0m/  \u001b[01;34mtmp\u001b[0m/\r\n"
     ]
    }
   ],
   "source": [
    "ls "
   ]
  },
  {
   "cell_type": "code",
   "execution_count": 60,
   "metadata": {},
   "outputs": [],
   "source": [
    "cp myprject.txt tmp/"
   ]
  },
  {
   "cell_type": "code",
   "execution_count": 61,
   "metadata": {},
   "outputs": [
    {
     "name": "stdout",
     "output_type": "stream",
     "text": [
      "myprject.txt\r\n"
     ]
    }
   ],
   "source": [
    "ls tmp "
   ]
  },
  {
   "cell_type": "code",
   "execution_count": 62,
   "metadata": {},
   "outputs": [],
   "source": [
    "#remove directory rm-remove -r()\n",
    "rm -r tmp"
   ]
  },
  {
   "cell_type": "code",
   "execution_count": 63,
   "metadata": {},
   "outputs": [
    {
     "name": "stdout",
     "output_type": "stream",
     "text": [
      "myprject.txt  \u001b[0m\u001b[01;34mmyproject\u001b[0m/  \u001b[01;34mproject1\u001b[0m/  \u001b[01;34mproject2\u001b[0m/\r\n"
     ]
    }
   ],
   "source": [
    "ls"
   ]
  },
  {
   "cell_type": "code",
   "execution_count": 23,
   "metadata": {},
   "outputs": [],
   "source": [
    "# creating file \n",
    "!touch filename.txt"
   ]
  },
  {
   "cell_type": "code",
   "execution_count": null,
   "metadata": {},
   "outputs": [],
   "source": [
    "# open file \n",
    "!nano filename.txt\n",
    "vi filename.txt\n",
    "gedit filename.txt\n",
    "subl filename.txt\n"
   ]
  },
  {
   "cell_type": "code",
   "execution_count": 26,
   "metadata": {},
   "outputs": [],
   "source": [
    "#move file to dir or rename it\n",
    "%mv filename.txt notebooks/\n"
   ]
  },
  {
   "cell_type": "code",
   "execution_count": null,
   "metadata": {},
   "outputs": [],
   "source": [
    "# remove file \n",
    "rm -i filename.txt"
   ]
  },
  {
   "cell_type": "code",
   "execution_count": null,
   "metadata": {},
   "outputs": [],
   "source": [
    "# make a new directory\n",
    "mkdir dirname"
   ]
  },
  {
   "cell_type": "markdown",
   "metadata": {},
   "source": [
    "``cp old new`` copies a file.\n",
    "\n",
    "``mkdir path`` creates a new directory.\n",
    "\n",
    "``mv`` old new moves (renames) a file or directory.\n",
    "\n",
    "``rm`` path removes (deletes) a file.\n",
    "\n",
    "``*`` matches zero or more characters in a filename, so *.txt matches all files ending in .txt.\n",
    "\n",
    "``?`` matches any single character in a filename, so ?.txt matches a.txt but not any.txt.\n",
    "\n",
    "Use of the Control key may be described in many ways, including Ctrl-X, Control-X, and ``^X``.\n",
    "\n",
    "The shell does not have a trash bin: once something is deleted, it’s really gone.\n",
    "\n",
    "Most files’ names are something.extension. The extension isn’t required, and doesn’t guarantee anything, but is normally used to indicate the type of data in the file.\n",
    "\n",
    "Depending on the type of work you do, you may need a more powerful text editor than Nano."
   ]
  },
  {
   "cell_type": "markdown",
   "metadata": {},
   "source": [
    "# Pipes"
   ]
  },
  {
   "cell_type": "code",
   "execution_count": 35,
   "metadata": {},
   "outputs": [
    {
     "name": "stdout",
     "output_type": "stream",
     "text": [
      "0 0 0 filename.txt\r\n"
     ]
    }
   ],
   "source": [
    "# coutn words in file \n",
    "!wc  filename.txt\n"
   ]
  },
  {
   "cell_type": "code",
   "execution_count": 36,
   "metadata": {},
   "outputs": [],
   "source": [
    "# pipe > and >> write to the file \n",
    "!wc filename.txt > wc.txt\n",
    "!wc filename.txt >> wc.txt\n"
   ]
  },
  {
   "cell_type": "code",
   "execution_count": null,
   "metadata": {},
   "outputs": [],
   "source": [
    "# show what inside the file \n",
    "cat wc.txt"
   ]
  },
  {
   "cell_type": "code",
   "execution_count": 39,
   "metadata": {},
   "outputs": [
    {
     "name": "stdout",
     "output_type": "stream",
     "text": [
      "0 0 0 filename.txt\u001b[m\n",
      "\u001b[K\u001b[7m(END)\u001b[m\u001b[Km\u001b[K\u00070 0 0 filename.txt\n",
      "0 0 0 filename.txt\n",
      "0 0 0 filename.txt\n"
     ]
    }
   ],
   "source": [
    "#some variations like less more head and tail \n",
    "!less wc.txt\n",
    "!more wc.txt\n",
    "!head -4 wc.txt\n",
    "!tail -4 wc.txt"
   ]
  },
  {
   "cell_type": "code",
   "execution_count": null,
   "metadata": {},
   "outputs": [],
   "source": [
    "# The pipe |\n",
    "!wc filename.txt | sort -n | head -n 1"
   ]
  },
  {
   "cell_type": "code",
   "execution_count": null,
   "metadata": {},
   "outputs": [],
   "source": [
    "#complex example of pipes\n",
    "cat animals.txt | head -n 5 | tail -n 3 | sort -r > final.txt"
   ]
  },
  {
   "cell_type": "code",
   "execution_count": null,
   "metadata": {},
   "outputs": [],
   "source": [
    "# the cut comand\n",
    "cut -d , -f 2 animals.txt"
   ]
  },
  {
   "cell_type": "markdown",
   "metadata": {},
   "source": [
    "search in the file.\n",
    "\n",
    "``grep fox animal.txt``\n",
    "\n",
    "for more \n",
    "https://phoenixnap.com/kb/grep-command-linux-unix-examples"
   ]
  },
  {
   "cell_type": "markdown",
   "metadata": {},
   "source": [
    "``cat`` displays the contents of its inputs.\n",
    "\n",
    "``head`` displays the first 10 lines of its input.\n",
    "\n",
    "``tail`` displays the last 10 lines of its input.\n",
    "\n",
    "``sort`` sorts its inputs.\n",
    "\n",
    "``wc`` counts lines, words, and characters in its inputs.\n",
    "\n",
    "``command > file`` redirects a command’s output to a file (overwriting any existing content).\n",
    "\n",
    "``command >> file`` appends a command’s output to a file.\n",
    "\n",
    "``first | second`` is a pipeline: the output of the first command is used as the input to the second.\n",
    "\n",
    "``grep`` seraches given word in filesystem\n",
    "\n",
    "The best way to use the shell is to use pipes to combine simple single-purpose programs (filters)."
   ]
  },
  {
   "cell_type": "code",
   "execution_count": null,
   "metadata": {},
   "outputs": [],
   "source": [
    "# "
   ]
  },
  {
   "cell_type": "code",
   "execution_count": null,
   "metadata": {},
   "outputs": [],
   "source": [
    "# no man for cd \n",
    "cd .\n",
    "cd /\n",
    "cd ../..\n",
    "cd ~\n",
    "cd home\n",
    "cd ~\n",
    "cd .."
   ]
  },
  {
   "cell_type": "code",
   "execution_count": null,
   "metadata": {},
   "outputs": [],
   "source": []
  },
  {
   "cell_type": "code",
   "execution_count": null,
   "metadata": {},
   "outputs": [],
   "source": []
  },
  {
   "cell_type": "code",
   "execution_count": null,
   "metadata": {},
   "outputs": [],
   "source": []
  },
  {
   "cell_type": "code",
   "execution_count": null,
   "metadata": {},
   "outputs": [],
   "source": []
  },
  {
   "cell_type": "code",
   "execution_count": 8,
   "metadata": {},
   "outputs": [
    {
     "name": "stdout",
     "output_type": "stream",
     "text": [
      "/bin/sh: 1: moo: not found\r\n"
     ]
    }
   ],
   "source": [
    "#install program\n",
    "!sudo apt-get install tree \n"
   ]
  },
  {
   "cell_type": "code",
   "execution_count": 83,
   "metadata": {},
   "outputs": [
    {
     "name": "stdout",
     "output_type": "stream",
     "text": [
      "\u001b[H\u001b[2J"
     ]
    }
   ],
   "source": []
  },
  {
   "cell_type": "code",
   "execution_count": null,
   "metadata": {},
   "outputs": [],
   "source": []
  }
 ],
 "metadata": {
  "anaconda-cloud": {},
  "colab": {
   "name": "01.05-IPython-And-Shell-Commands.ipynb",
   "provenance": []
  },
  "kernelspec": {
   "display_name": "Python 3",
   "language": "python",
   "name": "python3"
  },
  "language_info": {
   "codemirror_mode": {
    "name": "ipython",
    "version": 3
   },
   "file_extension": ".py",
   "mimetype": "text/x-python",
   "name": "python",
   "nbconvert_exporter": "python",
   "pygments_lexer": "ipython3",
   "version": "3.7.3"
  }
 },
 "nbformat": 4,
 "nbformat_minor": 1
}
