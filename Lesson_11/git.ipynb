{
 "cells": [
  {
   "cell_type": "markdown",
   "metadata": {
    "colab_type": "text",
    "id": "7UzJm2gcK19b"
   },
   "source": [
    "<h2 style=\"text-align: center;\"><b>Git</b></h2>"
   ]
  },
  {
   "cell_type": "markdown",
   "metadata": {
    "colab_type": "text",
    "id": "gN95nWNGK19b"
   },
   "source": [
    "<img align=center src=\"https://upload.wikimedia.org/wikipedia/commons/thumb/e/e0/Git-logo.svg/2000px-Git-logo.svg.png\" style=\"height:160px;\" width=300/>"
   ]
  },
  {
   "cell_type": "markdown",
   "metadata": {
    "colab_type": "text",
    "id": "iNwYKBKVK19c"
   },
   "source": [
    "Представьте, что Вам нужно сделать проект, который в процессе его создания будет нужен кому-то, кроме Вас (например, Вы хотите показать нам свои выполненные домашние задания не в Canvas) или же у Вас командная работа, и всем необходим доступ к проекту и внесенным изменениям. Можно, конечно, использовать папку на каком-нибудь облаке и дать просто кому-нибудь к ней доступ, но есть решение лучше – это **git** (не путать с github – это по сути хостинг для проектов, использующих git). И мы настоятельно рекомендуем изучить его, так как это с большой вероятностью Вам поможет в будущем.\n",
    "\n",
    "Для начала скачиваем: https://git-scm.com/downloads\n",
    "(если что, на этом же сайте есть вся документация и подробности по использованию)\n",
    "\n",
    "Далее, создаёте аккаунт на [Github](https://github.com/) (существуют ему подобные сервисы вроде Bitbucket или GitLab, но мы будем пользоваться гитхабом)\n",
    "\n",
    "<img align=center src=\"https://i1.wp.com/linuxnewbieguide.org/wp-content/uploads/2017/03/github-logo.png\" style=\"height:90px;\" width=500/>"
   ]
  },
  {
   "cell_type": "markdown",
   "metadata": {
    "colab_type": "text",
    "id": "gZdG4dEiK19d"
   },
   "source": [
    "Здесь есть отличные уроки для начинающих: https://githowto.com/ru\n",
    "\n",
    "Еще советуем данный видеоурок: https://www.youtube.com/watch?v=HVsySz-h9r4&t=293s\n",
    "\n",
    "Также достаточно полезным может оказаться данный материал: https://guides.github.com/introduction/flow/"
   ]
  },
  {
   "cell_type": "markdown",
   "metadata": {
    "colab_type": "text",
    "id": "SVcPzSiJK19f"
   },
   "source": [
    "Мы не будем вдаваться в тонкости git, а покажем, что вам точно понадобится в нашем курсе. Для начала определим, что такое репозиторий: это рабочая директория с Вашим проектом. По сути, это та же папка с рабочими файлами, что хранится у вас на компьютере, но находится на сервере GitHub. Поэтому вы можете работать с проектом удалённо на любой машине, не переживая, что какие-то из ваших файлов потеряются – все файлы будут в репозитории при условии, что вы их туда отправите.  Что такое форк: форк – ваша персональная версия мастер-репозитория(копия), в нём вы можете пробовать разные решения, менять код и не бояться что-то сломать в основной версии проекта.\n",
    "\n",
    "Как сделать так, чтобы весь материал нашего курса, все ДЗ были в репозитории Вашего аккаунта, как вносить изменения и загружать выполненную ДЗ?\n",
    "\n",
    "1. Запускаете Git, а именно Git Bash\n",
    "\n",
    "2. В открывшемся окне командами cd перемещаетесь в папку, которую создали в пункте 2\n",
    "\n",
    "3. Выполняете в ней (в окне git'а) следующий набор команд:\n",
    "```bash\n",
    "git init*ENTER*\n",
    "git pull <ссылка на ваш форк на сайте GitHub, вида .../dlschl> master*ENTER*\n",
    "```\n",
    "\n",
    "4. Теперь у Вас на компьютере в этой папке все файлы, которые есть в Вашем форке на сайте GitHub\n",
    "\n",
    "5. Делаете ДЗ/смотрите семинары, изменяете нужные файлы, добавляете файлы и т.д.\n",
    "\n",
    "6. Теперь Вы хотите, чтобы Ваши изменения появились на GitHub. В папке, в которой всё это лежит, выполняете:\n",
    "```bash\n",
    "git add .*ENTER* \n",
    "```\n",
    "(точка добавляет все файлы, которые Вы изменяли; чтобы добавить только какой-то конкретный нужно написать его имя вместо точки, например: git add myfile.py)\n",
    "\n",
    "7. Потом сразу эту команду:\n",
    "```bash\n",
    "git commit -m '<ваше сообщение, комментарий к проделанной работе>'*ENTER*\n",
    "```\n",
    "\n",
    "8. Далее нужно действовать так: \n",
    "\n",
    "    a) Если у вас на компьютере актуальная версия файлов с Вашего репозитория на GitHub, то сразу делаете:\n",
    "```bash\n",
    "git push <ссылка на ваш форк на сайте GitHub, вида .../dlschl> master*ENTER*\n",
    "```\n",
    "    b) Если Вы что-то меняли на сайте GitHub, и у Вас на компьютере неактуальная версия файлов, нет каких-то файлов, которые есть на GitHub, то сначала перед push нужно сделать pull:\n",
    "```bash\n",
    "git pull <ссылка на ваш форк на сайте GitHub, вида .../dlschl> master*ENTER*\n",
    "```\n",
    "И теперь уже команду из пункта a)\n",
    "\n",
    "9. Изменения теперь в Вашем репозитории, можете кидать нам на почту ссылку на выполненную домашку\n",
    "\n",
    "10. Чтобы подгрузить в Ваш форк актуальные файлы из репозитория нашей Школы (например, мы сделали новую домашку и Вы хотите её себе скачать), нужно сделать в папке DLSchool:\n",
    "```bash\n",
    "git pull https://github.com/miptmlschool/dlschl master\n",
    "```\n",
    "Git может предложить смёрджить изменения (потому что в Ваших версиях ноутбуков домашки уже сделаны), в таком случае Вам нужно вручную разрулить, какой файл выбирать (удалить файл, в котором нет Ваших изменений), если всё автоматически не разрешилось\n",
    "\n"
   ]
  },
  {
   "cell_type": "markdown",
   "metadata": {},
   "source": [
    "# Git Basic"
   ]
  },
  {
   "cell_type": "markdown",
   "metadata": {},
   "source": [
    "Use Git commands to help keep track of changes made to a project:\n",
    "\n",
    "git ``init`` creates a new Git repository\n",
    "\n",
    "git ``status`` inspects the contents of the working directory and staging area\n",
    "\n",
    "git ``add`` adds files from the working directory to the staging area\n",
    "\n",
    "git ``diff`` shows the difference between the working directory and the staging area\n",
    "\n",
    "git ``commit`` permanently stores file changes from the staging area in the repository\n",
    "\n",
    "git ``log`` shows a list of all previous commits"
   ]
  },
  {
   "cell_type": "markdown",
   "metadata": {},
   "source": [
    "# Git repositories"
   ]
  },
  {
   "cell_type": "markdown",
   "metadata": {},
   "source": [
    "Git branching allows users to experiment with different versions of a project by checking out separate branches to work on.\n",
    "\n",
    "The following commands are useful in the Git branch workflow.\n",
    "\n",
    "``git branch``: Lists all a Git project’s branches.\n",
    "\n",
    "``git branch branch_name``: Creates a new branch.\n",
    "\n",
    "``git checkout branch_name``: Used to switch from one branch to another.\n",
    "\n",
    "``git merge branch_name``: Used to join file changes from one branch to another.\n",
    "\n",
    "``git branch -d branch_name``: Deletes the branch specified."
   ]
  },
  {
   "cell_type": "code",
   "execution_count": null,
   "metadata": {},
   "outputs": [],
   "source": []
  }
 ],
 "metadata": {
  "colab": {
   "collapsed_sections": [],
   "name": "[seminar,basic]tools.ipynb",
   "provenance": []
  },
  "kernelspec": {
   "display_name": "Python 3",
   "language": "python",
   "name": "python3"
  },
  "language_info": {
   "codemirror_mode": {
    "name": "ipython",
    "version": 3
   },
   "file_extension": ".py",
   "mimetype": "text/x-python",
   "name": "python",
   "nbconvert_exporter": "python",
   "pygments_lexer": "ipython3",
   "version": "3.7.3"
  }
 },
 "nbformat": 4,
 "nbformat_minor": 1
}
